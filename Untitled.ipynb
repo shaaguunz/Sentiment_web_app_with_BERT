{
 "cells": [
  {
   "cell_type": "code",
   "execution_count": 1,
   "id": "955d4601",
   "metadata": {},
   "outputs": [],
   "source": [
    "#importing the necessary libraries\n",
    "import pandas as pd\n",
    "import numpy as np\n",
    "import re\n",
    "import joblib"
   ]
  },
  {
   "cell_type": "code",
   "execution_count": 2,
   "id": "67486c2d",
   "metadata": {},
   "outputs": [],
   "source": [
    "#reading the datasets\n",
    "df1= pd.read_csv(\"_airlines.csv\")\n",
    "df2=pd.read_csv(\"Airline_Reviews.csv\",names=['id','id1','sentiment','text'])\n",
    "df3=pd.read_csv(\"singapore_airlines_reviews.csv\")"
   ]
  },
  {
   "cell_type": "code",
   "execution_count": 3,
   "id": "6ace6d51",
   "metadata": {},
   "outputs": [
    {
     "data": {
      "text/html": [
       "<div>\n",
       "<style scoped>\n",
       "    .dataframe tbody tr th:only-of-type {\n",
       "        vertical-align: middle;\n",
       "    }\n",
       "\n",
       "    .dataframe tbody tr th {\n",
       "        vertical-align: top;\n",
       "    }\n",
       "\n",
       "    .dataframe thead th {\n",
       "        text-align: right;\n",
       "    }\n",
       "</style>\n",
       "<table border=\"1\" class=\"dataframe\">\n",
       "  <thead>\n",
       "    <tr style=\"text-align: right;\">\n",
       "      <th></th>\n",
       "      <th>tweet_id</th>\n",
       "      <th>airline_sentiment</th>\n",
       "      <th>airline_sentiment_confidence</th>\n",
       "      <th>negativereason</th>\n",
       "      <th>negativereason_confidence</th>\n",
       "      <th>airline</th>\n",
       "      <th>airline_sentiment_gold</th>\n",
       "      <th>name</th>\n",
       "      <th>negativereason_gold</th>\n",
       "      <th>retweet_count</th>\n",
       "      <th>text</th>\n",
       "      <th>tweet_coord</th>\n",
       "      <th>tweet_created</th>\n",
       "      <th>tweet_location</th>\n",
       "      <th>user_timezone</th>\n",
       "    </tr>\n",
       "  </thead>\n",
       "  <tbody>\n",
       "    <tr>\n",
       "      <th>0</th>\n",
       "      <td>570306133677760513</td>\n",
       "      <td>neutral</td>\n",
       "      <td>1.0000</td>\n",
       "      <td>NaN</td>\n",
       "      <td>NaN</td>\n",
       "      <td>Virgin America</td>\n",
       "      <td>NaN</td>\n",
       "      <td>cairdin</td>\n",
       "      <td>NaN</td>\n",
       "      <td>0</td>\n",
       "      <td>@VirginAmerica What @dhepburn said.</td>\n",
       "      <td>NaN</td>\n",
       "      <td>2015-02-24 11:35:52 -0800</td>\n",
       "      <td>NaN</td>\n",
       "      <td>Eastern Time (US &amp; Canada)</td>\n",
       "    </tr>\n",
       "    <tr>\n",
       "      <th>1</th>\n",
       "      <td>570301130888122368</td>\n",
       "      <td>positive</td>\n",
       "      <td>0.3486</td>\n",
       "      <td>NaN</td>\n",
       "      <td>0.0000</td>\n",
       "      <td>Virgin America</td>\n",
       "      <td>NaN</td>\n",
       "      <td>jnardino</td>\n",
       "      <td>NaN</td>\n",
       "      <td>0</td>\n",
       "      <td>@VirginAmerica plus you've added commercials t...</td>\n",
       "      <td>NaN</td>\n",
       "      <td>2015-02-24 11:15:59 -0800</td>\n",
       "      <td>NaN</td>\n",
       "      <td>Pacific Time (US &amp; Canada)</td>\n",
       "    </tr>\n",
       "    <tr>\n",
       "      <th>2</th>\n",
       "      <td>570301083672813571</td>\n",
       "      <td>neutral</td>\n",
       "      <td>0.6837</td>\n",
       "      <td>NaN</td>\n",
       "      <td>NaN</td>\n",
       "      <td>Virgin America</td>\n",
       "      <td>NaN</td>\n",
       "      <td>yvonnalynn</td>\n",
       "      <td>NaN</td>\n",
       "      <td>0</td>\n",
       "      <td>@VirginAmerica I didn't today... Must mean I n...</td>\n",
       "      <td>NaN</td>\n",
       "      <td>2015-02-24 11:15:48 -0800</td>\n",
       "      <td>Lets Play</td>\n",
       "      <td>Central Time (US &amp; Canada)</td>\n",
       "    </tr>\n",
       "    <tr>\n",
       "      <th>3</th>\n",
       "      <td>570301031407624196</td>\n",
       "      <td>negative</td>\n",
       "      <td>1.0000</td>\n",
       "      <td>Bad Flight</td>\n",
       "      <td>0.7033</td>\n",
       "      <td>Virgin America</td>\n",
       "      <td>NaN</td>\n",
       "      <td>jnardino</td>\n",
       "      <td>NaN</td>\n",
       "      <td>0</td>\n",
       "      <td>@VirginAmerica it's really aggressive to blast...</td>\n",
       "      <td>NaN</td>\n",
       "      <td>2015-02-24 11:15:36 -0800</td>\n",
       "      <td>NaN</td>\n",
       "      <td>Pacific Time (US &amp; Canada)</td>\n",
       "    </tr>\n",
       "    <tr>\n",
       "      <th>4</th>\n",
       "      <td>570300817074462722</td>\n",
       "      <td>negative</td>\n",
       "      <td>1.0000</td>\n",
       "      <td>Can't Tell</td>\n",
       "      <td>1.0000</td>\n",
       "      <td>Virgin America</td>\n",
       "      <td>NaN</td>\n",
       "      <td>jnardino</td>\n",
       "      <td>NaN</td>\n",
       "      <td>0</td>\n",
       "      <td>@VirginAmerica and it's a really big bad thing...</td>\n",
       "      <td>NaN</td>\n",
       "      <td>2015-02-24 11:14:45 -0800</td>\n",
       "      <td>NaN</td>\n",
       "      <td>Pacific Time (US &amp; Canada)</td>\n",
       "    </tr>\n",
       "    <tr>\n",
       "      <th>...</th>\n",
       "      <td>...</td>\n",
       "      <td>...</td>\n",
       "      <td>...</td>\n",
       "      <td>...</td>\n",
       "      <td>...</td>\n",
       "      <td>...</td>\n",
       "      <td>...</td>\n",
       "      <td>...</td>\n",
       "      <td>...</td>\n",
       "      <td>...</td>\n",
       "      <td>...</td>\n",
       "      <td>...</td>\n",
       "      <td>...</td>\n",
       "      <td>...</td>\n",
       "      <td>...</td>\n",
       "    </tr>\n",
       "    <tr>\n",
       "      <th>14635</th>\n",
       "      <td>569587686496825344</td>\n",
       "      <td>positive</td>\n",
       "      <td>0.3487</td>\n",
       "      <td>NaN</td>\n",
       "      <td>0.0000</td>\n",
       "      <td>American</td>\n",
       "      <td>NaN</td>\n",
       "      <td>KristenReenders</td>\n",
       "      <td>NaN</td>\n",
       "      <td>0</td>\n",
       "      <td>@AmericanAir thank you we got on a different f...</td>\n",
       "      <td>NaN</td>\n",
       "      <td>2015-02-22 12:01:01 -0800</td>\n",
       "      <td>NaN</td>\n",
       "      <td>NaN</td>\n",
       "    </tr>\n",
       "    <tr>\n",
       "      <th>14636</th>\n",
       "      <td>569587371693355008</td>\n",
       "      <td>negative</td>\n",
       "      <td>1.0000</td>\n",
       "      <td>Customer Service Issue</td>\n",
       "      <td>1.0000</td>\n",
       "      <td>American</td>\n",
       "      <td>NaN</td>\n",
       "      <td>itsropes</td>\n",
       "      <td>NaN</td>\n",
       "      <td>0</td>\n",
       "      <td>@AmericanAir leaving over 20 minutes Late Flig...</td>\n",
       "      <td>NaN</td>\n",
       "      <td>2015-02-22 11:59:46 -0800</td>\n",
       "      <td>Texas</td>\n",
       "      <td>NaN</td>\n",
       "    </tr>\n",
       "    <tr>\n",
       "      <th>14637</th>\n",
       "      <td>569587242672398336</td>\n",
       "      <td>neutral</td>\n",
       "      <td>1.0000</td>\n",
       "      <td>NaN</td>\n",
       "      <td>NaN</td>\n",
       "      <td>American</td>\n",
       "      <td>NaN</td>\n",
       "      <td>sanyabun</td>\n",
       "      <td>NaN</td>\n",
       "      <td>0</td>\n",
       "      <td>@AmericanAir Please bring American Airlines to...</td>\n",
       "      <td>NaN</td>\n",
       "      <td>2015-02-22 11:59:15 -0800</td>\n",
       "      <td>Nigeria,lagos</td>\n",
       "      <td>NaN</td>\n",
       "    </tr>\n",
       "    <tr>\n",
       "      <th>14638</th>\n",
       "      <td>569587188687634433</td>\n",
       "      <td>negative</td>\n",
       "      <td>1.0000</td>\n",
       "      <td>Customer Service Issue</td>\n",
       "      <td>0.6659</td>\n",
       "      <td>American</td>\n",
       "      <td>NaN</td>\n",
       "      <td>SraJackson</td>\n",
       "      <td>NaN</td>\n",
       "      <td>0</td>\n",
       "      <td>@AmericanAir you have my money, you change my ...</td>\n",
       "      <td>NaN</td>\n",
       "      <td>2015-02-22 11:59:02 -0800</td>\n",
       "      <td>New Jersey</td>\n",
       "      <td>Eastern Time (US &amp; Canada)</td>\n",
       "    </tr>\n",
       "    <tr>\n",
       "      <th>14639</th>\n",
       "      <td>569587140490866689</td>\n",
       "      <td>neutral</td>\n",
       "      <td>0.6771</td>\n",
       "      <td>NaN</td>\n",
       "      <td>0.0000</td>\n",
       "      <td>American</td>\n",
       "      <td>NaN</td>\n",
       "      <td>daviddtwu</td>\n",
       "      <td>NaN</td>\n",
       "      <td>0</td>\n",
       "      <td>@AmericanAir we have 8 ppl so we need 2 know h...</td>\n",
       "      <td>NaN</td>\n",
       "      <td>2015-02-22 11:58:51 -0800</td>\n",
       "      <td>dallas, TX</td>\n",
       "      <td>NaN</td>\n",
       "    </tr>\n",
       "  </tbody>\n",
       "</table>\n",
       "<p>14640 rows × 15 columns</p>\n",
       "</div>"
      ],
      "text/plain": [
       "                 tweet_id airline_sentiment  airline_sentiment_confidence  \\\n",
       "0      570306133677760513           neutral                        1.0000   \n",
       "1      570301130888122368          positive                        0.3486   \n",
       "2      570301083672813571           neutral                        0.6837   \n",
       "3      570301031407624196          negative                        1.0000   \n",
       "4      570300817074462722          negative                        1.0000   \n",
       "...                   ...               ...                           ...   \n",
       "14635  569587686496825344          positive                        0.3487   \n",
       "14636  569587371693355008          negative                        1.0000   \n",
       "14637  569587242672398336           neutral                        1.0000   \n",
       "14638  569587188687634433          negative                        1.0000   \n",
       "14639  569587140490866689           neutral                        0.6771   \n",
       "\n",
       "               negativereason  negativereason_confidence         airline  \\\n",
       "0                         NaN                        NaN  Virgin America   \n",
       "1                         NaN                     0.0000  Virgin America   \n",
       "2                         NaN                        NaN  Virgin America   \n",
       "3                  Bad Flight                     0.7033  Virgin America   \n",
       "4                  Can't Tell                     1.0000  Virgin America   \n",
       "...                       ...                        ...             ...   \n",
       "14635                     NaN                     0.0000        American   \n",
       "14636  Customer Service Issue                     1.0000        American   \n",
       "14637                     NaN                        NaN        American   \n",
       "14638  Customer Service Issue                     0.6659        American   \n",
       "14639                     NaN                     0.0000        American   \n",
       "\n",
       "      airline_sentiment_gold             name negativereason_gold  \\\n",
       "0                        NaN          cairdin                 NaN   \n",
       "1                        NaN         jnardino                 NaN   \n",
       "2                        NaN       yvonnalynn                 NaN   \n",
       "3                        NaN         jnardino                 NaN   \n",
       "4                        NaN         jnardino                 NaN   \n",
       "...                      ...              ...                 ...   \n",
       "14635                    NaN  KristenReenders                 NaN   \n",
       "14636                    NaN         itsropes                 NaN   \n",
       "14637                    NaN         sanyabun                 NaN   \n",
       "14638                    NaN       SraJackson                 NaN   \n",
       "14639                    NaN        daviddtwu                 NaN   \n",
       "\n",
       "       retweet_count                                               text  \\\n",
       "0                  0                @VirginAmerica What @dhepburn said.   \n",
       "1                  0  @VirginAmerica plus you've added commercials t...   \n",
       "2                  0  @VirginAmerica I didn't today... Must mean I n...   \n",
       "3                  0  @VirginAmerica it's really aggressive to blast...   \n",
       "4                  0  @VirginAmerica and it's a really big bad thing...   \n",
       "...              ...                                                ...   \n",
       "14635              0  @AmericanAir thank you we got on a different f...   \n",
       "14636              0  @AmericanAir leaving over 20 minutes Late Flig...   \n",
       "14637              0  @AmericanAir Please bring American Airlines to...   \n",
       "14638              0  @AmericanAir you have my money, you change my ...   \n",
       "14639              0  @AmericanAir we have 8 ppl so we need 2 know h...   \n",
       "\n",
       "      tweet_coord              tweet_created tweet_location  \\\n",
       "0             NaN  2015-02-24 11:35:52 -0800            NaN   \n",
       "1             NaN  2015-02-24 11:15:59 -0800            NaN   \n",
       "2             NaN  2015-02-24 11:15:48 -0800      Lets Play   \n",
       "3             NaN  2015-02-24 11:15:36 -0800            NaN   \n",
       "4             NaN  2015-02-24 11:14:45 -0800            NaN   \n",
       "...           ...                        ...            ...   \n",
       "14635         NaN  2015-02-22 12:01:01 -0800            NaN   \n",
       "14636         NaN  2015-02-22 11:59:46 -0800          Texas   \n",
       "14637         NaN  2015-02-22 11:59:15 -0800  Nigeria,lagos   \n",
       "14638         NaN  2015-02-22 11:59:02 -0800     New Jersey   \n",
       "14639         NaN  2015-02-22 11:58:51 -0800     dallas, TX   \n",
       "\n",
       "                    user_timezone  \n",
       "0      Eastern Time (US & Canada)  \n",
       "1      Pacific Time (US & Canada)  \n",
       "2      Central Time (US & Canada)  \n",
       "3      Pacific Time (US & Canada)  \n",
       "4      Pacific Time (US & Canada)  \n",
       "...                           ...  \n",
       "14635                         NaN  \n",
       "14636                         NaN  \n",
       "14637                         NaN  \n",
       "14638  Eastern Time (US & Canada)  \n",
       "14639                         NaN  \n",
       "\n",
       "[14640 rows x 15 columns]"
      ]
     },
     "execution_count": 3,
     "metadata": {},
     "output_type": "execute_result"
    }
   ],
   "source": [
    "df1"
   ]
  },
  {
   "cell_type": "code",
   "execution_count": 4,
   "id": "0237a3ce",
   "metadata": {},
   "outputs": [],
   "source": [
    "df1_cols=['airline_sentiment','text']  #only selecting the important  columns"
   ]
  },
  {
   "cell_type": "code",
   "execution_count": 5,
   "id": "d09e464d",
   "metadata": {},
   "outputs": [
    {
     "data": {
      "text/plain": [
       "['airline_sentiment', 'text']"
      ]
     },
     "execution_count": 5,
     "metadata": {},
     "output_type": "execute_result"
    }
   ],
   "source": [
    "df1_cols"
   ]
  },
  {
   "cell_type": "code",
   "execution_count": 6,
   "id": "612f5492",
   "metadata": {},
   "outputs": [],
   "source": [
    "df1_fin=df1[df1_cols]  #creating the final dataframe from selected columns\n",
    " "
   ]
  },
  {
   "cell_type": "code",
   "execution_count": 9,
   "id": "fa302acf",
   "metadata": {},
   "outputs": [],
   "source": [
    "df2_cols=['Review','Overall_Rating']#again selected the important columns"
   ]
  },
  {
   "cell_type": "code",
   "execution_count": 10,
   "id": "81d4da50",
   "metadata": {},
   "outputs": [],
   "source": [
    "df2_fin=df2[df2_cols]"
   ]
  },
  {
   "cell_type": "code",
   "execution_count": 11,
   "id": "f7ccfcee",
   "metadata": {},
   "outputs": [
    {
     "name": "stderr",
     "output_type": "stream",
     "text": [
      "C:\\Users\\shaag\\AppData\\Local\\Temp\\ipykernel_17468\\2945207129.py:1: SettingWithCopyWarning: \n",
      "A value is trying to be set on a copy of a slice from a DataFrame\n",
      "\n",
      "See the caveats in the documentation: https://pandas.pydata.org/pandas-docs/stable/user_guide/indexing.html#returning-a-view-versus-a-copy\n",
      "  df2_fin.dropna(inplace=True)\n"
     ]
    }
   ],
   "source": [
    "df2_fin.dropna(inplace=True) #dropping null values"
   ]
  },
  {
   "cell_type": "code",
   "execution_count": 12,
   "id": "58cfac95",
   "metadata": {},
   "outputs": [
    {
     "name": "stdout",
     "output_type": "stream",
     "text": [
      "<class 'pandas.core.frame.DataFrame'>\n",
      "Index: 73996 entries, 0 to 74681\n",
      "Data columns (total 2 columns):\n",
      " #   Column     Non-Null Count  Dtype \n",
      "---  ------     --------------  ----- \n",
      " 0   sentiment  73996 non-null  object\n",
      " 1   text       73996 non-null  object\n",
      "dtypes: object(2)\n",
      "memory usage: 1.7+ MB\n"
     ]
    }
   ],
   "source": [
    "df2_fin.info()"
   ]
  },
  {
   "cell_type": "code",
   "execution_count": 14,
   "id": "911ac580",
   "metadata": {},
   "outputs": [],
   "source": [
    "df3_cols=['rating','text']  #again selected the important columns"
   ]
  },
  {
   "cell_type": "code",
   "execution_count": 15,
   "id": "2f830ab1",
   "metadata": {},
   "outputs": [],
   "source": [
    "df3_fin=df3[df3_cols]"
   ]
  },
  {
   "cell_type": "code",
   "execution_count": null,
   "id": "3369cccd",
   "metadata": {},
   "outputs": [],
   "source": [
    "\n",
    "    "
   ]
  },
  {
   "cell_type": "code",
   "execution_count": 17,
   "id": "f023f347",
   "metadata": {},
   "outputs": [
    {
     "name": "stderr",
     "output_type": "stream",
     "text": [
      "C:\\Users\\shaag\\AppData\\Local\\Temp\\ipykernel_17468\\2550763281.py:1: SettingWithCopyWarning: \n",
      "A value is trying to be set on a copy of a slice from a DataFrame.\n",
      "Try using .loc[row_indexer,col_indexer] = value instead\n",
      "\n",
      "See the caveats in the documentation: https://pandas.pydata.org/pandas-docs/stable/user_guide/indexing.html#returning-a-view-versus-a-copy\n",
      "  df1_fin['sentiment']=df1_fin['airline_sentiment']\n"
     ]
    }
   ],
   "source": [
    "df1_fin['sentiment']=df1_fin['airline_sentiment']  #copying a column"
   ]
  },
  {
   "cell_type": "code",
   "execution_count": 18,
   "id": "08d9ab74",
   "metadata": {},
   "outputs": [
    {
     "name": "stderr",
     "output_type": "stream",
     "text": [
      "C:\\Users\\shaag\\AppData\\Local\\Temp\\ipykernel_17468\\2467867258.py:1: SettingWithCopyWarning: \n",
      "A value is trying to be set on a copy of a slice from a DataFrame\n",
      "\n",
      "See the caveats in the documentation: https://pandas.pydata.org/pandas-docs/stable/user_guide/indexing.html#returning-a-view-versus-a-copy\n",
      "  df1_fin.drop('airline_sentiment',axis=1,inplace=True)\n"
     ]
    }
   ],
   "source": [
    "df1_fin.drop('airline_sentiment',axis=1,inplace=True) #dropping the copied column"
   ]
  },
  {
   "cell_type": "code",
   "execution_count": 20,
   "id": "e6de72cc",
   "metadata": {},
   "outputs": [
    {
     "data": {
      "text/html": [
       "<div>\n",
       "<style scoped>\n",
       "    .dataframe tbody tr th:only-of-type {\n",
       "        vertical-align: middle;\n",
       "    }\n",
       "\n",
       "    .dataframe tbody tr th {\n",
       "        vertical-align: top;\n",
       "    }\n",
       "\n",
       "    .dataframe thead th {\n",
       "        text-align: right;\n",
       "    }\n",
       "</style>\n",
       "<table border=\"1\" class=\"dataframe\">\n",
       "  <thead>\n",
       "    <tr style=\"text-align: right;\">\n",
       "      <th></th>\n",
       "      <th>text</th>\n",
       "      <th>sentiment</th>\n",
       "    </tr>\n",
       "  </thead>\n",
       "  <tbody>\n",
       "    <tr>\n",
       "      <th>0</th>\n",
       "      <td>@VirginAmerica What @dhepburn said.</td>\n",
       "      <td>neutral</td>\n",
       "    </tr>\n",
       "    <tr>\n",
       "      <th>1</th>\n",
       "      <td>@VirginAmerica plus you've added commercials t...</td>\n",
       "      <td>positive</td>\n",
       "    </tr>\n",
       "    <tr>\n",
       "      <th>2</th>\n",
       "      <td>@VirginAmerica I didn't today... Must mean I n...</td>\n",
       "      <td>neutral</td>\n",
       "    </tr>\n",
       "    <tr>\n",
       "      <th>3</th>\n",
       "      <td>@VirginAmerica it's really aggressive to blast...</td>\n",
       "      <td>negative</td>\n",
       "    </tr>\n",
       "    <tr>\n",
       "      <th>4</th>\n",
       "      <td>@VirginAmerica and it's a really big bad thing...</td>\n",
       "      <td>negative</td>\n",
       "    </tr>\n",
       "    <tr>\n",
       "      <th>...</th>\n",
       "      <td>...</td>\n",
       "      <td>...</td>\n",
       "    </tr>\n",
       "    <tr>\n",
       "      <th>14635</th>\n",
       "      <td>@AmericanAir thank you we got on a different f...</td>\n",
       "      <td>positive</td>\n",
       "    </tr>\n",
       "    <tr>\n",
       "      <th>14636</th>\n",
       "      <td>@AmericanAir leaving over 20 minutes Late Flig...</td>\n",
       "      <td>negative</td>\n",
       "    </tr>\n",
       "    <tr>\n",
       "      <th>14637</th>\n",
       "      <td>@AmericanAir Please bring American Airlines to...</td>\n",
       "      <td>neutral</td>\n",
       "    </tr>\n",
       "    <tr>\n",
       "      <th>14638</th>\n",
       "      <td>@AmericanAir you have my money, you change my ...</td>\n",
       "      <td>negative</td>\n",
       "    </tr>\n",
       "    <tr>\n",
       "      <th>14639</th>\n",
       "      <td>@AmericanAir we have 8 ppl so we need 2 know h...</td>\n",
       "      <td>neutral</td>\n",
       "    </tr>\n",
       "  </tbody>\n",
       "</table>\n",
       "<p>14640 rows × 2 columns</p>\n",
       "</div>"
      ],
      "text/plain": [
       "                                                    text sentiment\n",
       "0                    @VirginAmerica What @dhepburn said.   neutral\n",
       "1      @VirginAmerica plus you've added commercials t...  positive\n",
       "2      @VirginAmerica I didn't today... Must mean I n...   neutral\n",
       "3      @VirginAmerica it's really aggressive to blast...  negative\n",
       "4      @VirginAmerica and it's a really big bad thing...  negative\n",
       "...                                                  ...       ...\n",
       "14635  @AmericanAir thank you we got on a different f...  positive\n",
       "14636  @AmericanAir leaving over 20 minutes Late Flig...  negative\n",
       "14637  @AmericanAir Please bring American Airlines to...   neutral\n",
       "14638  @AmericanAir you have my money, you change my ...  negative\n",
       "14639  @AmericanAir we have 8 ppl so we need 2 know h...   neutral\n",
       "\n",
       "[14640 rows x 2 columns]"
      ]
     },
     "execution_count": 20,
     "metadata": {},
     "output_type": "execute_result"
    }
   ],
   "source": [
    "df1_fin "
   ]
  },
  {
   "cell_type": "code",
   "execution_count": 22,
   "id": "3faebe3d",
   "metadata": {},
   "outputs": [],
   "source": [
    "df_list=[df1_fin,df2_fin,df3_fin] #putting objects into a list"
   ]
  },
  {
   "cell_type": "code",
   "execution_count": 23,
   "id": "3813ff6d",
   "metadata": {},
   "outputs": [],
   "source": [
    "df=pd.concat(df_list) #concatenating them"
   ]
  },
  {
   "cell_type": "code",
   "execution_count": 24,
   "id": "2fb2bf23",
   "metadata": {},
   "outputs": [],
   "source": [
    "df.dropna(inplace=True) #dropping null rows"
   ]
  },
  {
   "cell_type": "code",
   "execution_count": null,
   "id": "2b7767d1",
   "metadata": {},
   "outputs": [],
   "source": []
  },
  {
   "cell_type": "code",
   "execution_count": 27,
   "id": "926fe6e5",
   "metadata": {},
   "outputs": [
    {
     "name": "stderr",
     "output_type": "stream",
     "text": [
      "[nltk_data] Downloading package stopwords to\n",
      "[nltk_data]     C:\\Users\\shaag\\AppData\\Roaming\\nltk_data...\n",
      "[nltk_data]   Package stopwords is already up-to-date!\n",
      "[nltk_data] Downloading package punkt to\n",
      "[nltk_data]     C:\\Users\\shaag\\AppData\\Roaming\\nltk_data...\n",
      "[nltk_data]   Package punkt is already up-to-date!\n"
     ]
    }
   ],
   "source": [
    "#downloading nltk modules\n",
    "import nltk\n",
    "nltk.download('stopwords')\n",
    "nltk.download('punkt')\n",
    "from nltk.corpus import stopwords\n",
    "from nltk.tokenize import word_tokenize\n"
   ]
  },
  {
   "cell_type": "code",
   "execution_count": null,
   "id": "d87d0eaa",
   "metadata": {},
   "outputs": [],
   "source": []
  },
  {
   "cell_type": "code",
   "execution_count": 28,
   "id": "85d958ed",
   "metadata": {},
   "outputs": [
    {
     "data": {
      "text/plain": [
       "array(['neutral', 'positive', 'negative', 'Positive', 'Neutral',\n",
       "       'Negative', 'Irrelevant'], dtype=object)"
      ]
     },
     "execution_count": 28,
     "metadata": {},
     "output_type": "execute_result"
    }
   ],
   "source": [
    "df['sentiment'].unique()#listing unique values"
   ]
  },
  {
   "cell_type": "code",
   "execution_count": 29,
   "id": "bde64c6b",
   "metadata": {},
   "outputs": [],
   "source": [
    "#here we saw that there are certain spelling errors so fixing them\n",
    "df['sentiment']=df['sentiment'].replace(\"neutral\",\"Neutral\")\n",
    "df['sentiment']=df['sentiment'].replace(\"positive\",\"Positive\")\n",
    "df['sentiment']=df['sentiment'].replace(\"negative\",\"Negative\")\n",
    "df['sentiment']=df['sentiment'].replace(\"Irrelevant\",np.nan)"
   ]
  },
  {
   "cell_type": "code",
   "execution_count": 30,
   "id": "529182ab",
   "metadata": {},
   "outputs": [],
   "source": [
    "df.dropna(inplace=True)"
   ]
  },
  {
   "cell_type": "code",
   "execution_count": 31,
   "id": "e53d4a99",
   "metadata": {},
   "outputs": [],
   "source": [
    "names=['delta', 'deltaair', 'united', 'unitedair', 'southwest', 'southwestair', 'usairways',\n",
    "         'virginamerica', 'american', 'americanair', 'jetblue', 'jetblues', 'usairway',\n",
    "         'flight', 'airline', 'airlines','rt','said']  #name of the airlines"
   ]
  },
  {
   "cell_type": "code",
   "execution_count": 33,
   "id": "76257f5b",
   "metadata": {},
   "outputs": [
    {
     "name": "stdout",
     "output_type": "stream",
     "text": [
      "Sentimentos: 0        1\n",
      "1        2\n",
      "2        1\n",
      "3        0\n",
      "4        0\n",
      "        ..\n",
      "13866    0\n",
      "13867    2\n",
      "13868    2\n",
      "13869    0\n",
      "13870    2\n",
      "Name: sentiment, Length: 89632, dtype: int64\n"
     ]
    }
   ],
   "source": [
    "#custom function to label encode the sentiments\n",
    "def sentiments(sentimento):\n",
    "    if sentimento == \"Positive\":\n",
    "        return 2\n",
    "    elif sentimento == \"Neutral\":\n",
    "        return 1\n",
    "    elif sentimento == \"Negative\":\n",
    "        return 0\n",
    "\n",
    "# Applying the feeling function\n",
    "df.sentiment = df.sentiment.apply(lambda x: sentiments(x))\n",
    "print(\"Sentimentos:\", df.sentiment)"
   ]
  },
  {
   "cell_type": "code",
   "execution_count": 35,
   "id": "9add8f45",
   "metadata": {},
   "outputs": [],
   "source": [
    "final_df=df"
   ]
  },
  {
   "cell_type": "code",
   "execution_count": 32,
   "id": "20284921",
   "metadata": {},
   "outputs": [
    {
     "name": "stderr",
     "output_type": "stream",
     "text": [
      "<>:5: SyntaxWarning: invalid escape sequence '\\['\n",
      "<>:7: SyntaxWarning: invalid escape sequence '\\w'\n",
      "<>:5: SyntaxWarning: invalid escape sequence '\\['\n",
      "<>:7: SyntaxWarning: invalid escape sequence '\\w'\n",
      "C:\\Users\\shaag\\AppData\\Local\\Temp\\ipykernel_6340\\2583395350.py:5: SyntaxWarning: invalid escape sequence '\\['\n",
      "  text = re.sub('\\[.*?\\]', '', text) # remove square brackets\n",
      "C:\\Users\\shaag\\AppData\\Local\\Temp\\ipykernel_6340\\2583395350.py:7: SyntaxWarning: invalid escape sequence '\\w'\n",
      "  text = re.sub('\\w*\\d\\w*', '', text) # remove words containing numbers\n"
     ]
    }
   ],
   "source": [
    "#custom function to clean the data\n",
    "def clean_data(x):\n",
    "    text=x\n",
    "    \n",
    "    text = text.lower()\n",
    "    text = re.sub('\\[.*?\\]', '', text) # remove square brackets\n",
    "    text = re.sub(r'[^\\w\\s]','',text) # remove punctuation\n",
    "    text = re.sub('\\w*\\d\\w*', '', text) # remove words containing numbers\n",
    "    text = re.sub('\\n', '', text)\n",
    "    return text\n",
    "def clean_stopword(d):\n",
    "    stop_words = stopwords.words('english')\n",
    "    for name in names:\n",
    "        stop_words.append(name)\n",
    "    return \" \".join([w.lower() for w in d.split() if w.lower() not in stop_words and len(w) > 1])\n",
    "\n",
    "def tokenize(d):\n",
    "    return word_tokenize(d)"
   ]
  },
  {
   "cell_type": "code",
   "execution_count": 33,
   "id": "48ef4d0c",
   "metadata": {},
   "outputs": [],
   "source": [
    "df['final_text']=df.text.apply(clean_data).apply(clean_stopword).apply(tokenize) #applyingand chaining the operations"
   ]
  },
  {
   "cell_type": "code",
   "execution_count": 34,
   "id": "fdc24268",
   "metadata": {},
   "outputs": [],
   "source": [
    "df.drop('text',axis=1,inplace=True) #dropping text column"
   ]
  },
  {
   "cell_type": "code",
   "execution_count": 35,
   "id": "5ef41559",
   "metadata": {},
   "outputs": [],
   "source": [
    "df_fin=df.reset_index(drop=True)  #again resetting index"
   ]
  },
  {
   "cell_type": "code",
   "execution_count": 36,
   "id": "3de116bd",
   "metadata": {},
   "outputs": [
    {
     "data": {
      "text/html": [
       "<div>\n",
       "<style scoped>\n",
       "    .dataframe tbody tr th:only-of-type {\n",
       "        vertical-align: middle;\n",
       "    }\n",
       "\n",
       "    .dataframe tbody tr th {\n",
       "        vertical-align: top;\n",
       "    }\n",
       "\n",
       "    .dataframe thead th {\n",
       "        text-align: right;\n",
       "    }\n",
       "</style>\n",
       "<table border=\"1\" class=\"dataframe\">\n",
       "  <thead>\n",
       "    <tr style=\"text-align: right;\">\n",
       "      <th></th>\n",
       "      <th>sentiment</th>\n",
       "      <th>final_text</th>\n",
       "    </tr>\n",
       "  </thead>\n",
       "  <tbody>\n",
       "    <tr>\n",
       "      <th>0</th>\n",
       "      <td>Neutral</td>\n",
       "      <td>[dhepburn]</td>\n",
       "    </tr>\n",
       "    <tr>\n",
       "      <th>1</th>\n",
       "      <td>Positive</td>\n",
       "      <td>[plus, youve, added, commercials, experience, ...</td>\n",
       "    </tr>\n",
       "    <tr>\n",
       "      <th>2</th>\n",
       "      <td>Neutral</td>\n",
       "      <td>[didnt, today, must, mean, need, take, another...</td>\n",
       "    </tr>\n",
       "    <tr>\n",
       "      <th>3</th>\n",
       "      <td>Negative</td>\n",
       "      <td>[really, aggressive, blast, obnoxious, enterta...</td>\n",
       "    </tr>\n",
       "    <tr>\n",
       "      <th>4</th>\n",
       "      <td>Negative</td>\n",
       "      <td>[really, big, bad, thing]</td>\n",
       "    </tr>\n",
       "    <tr>\n",
       "      <th>...</th>\n",
       "      <td>...</td>\n",
       "      <td>...</td>\n",
       "    </tr>\n",
       "    <tr>\n",
       "      <th>89627</th>\n",
       "      <td>Negative</td>\n",
       "      <td>[cappy_yarbrough, love, see, men, never, faced...</td>\n",
       "    </tr>\n",
       "    <tr>\n",
       "      <th>89628</th>\n",
       "      <td>Positive</td>\n",
       "      <td>[georgehenryw, thought, huckabee, exceeded, ex...</td>\n",
       "    </tr>\n",
       "    <tr>\n",
       "      <th>89629</th>\n",
       "      <td>Positive</td>\n",
       "      <td>[lrihendry, tedcruz, president, always, tell, ...</td>\n",
       "    </tr>\n",
       "    <tr>\n",
       "      <th>89630</th>\n",
       "      <td>Negative</td>\n",
       "      <td>[jrehling, gopdebate, donald, trump, says, doe...</td>\n",
       "    </tr>\n",
       "    <tr>\n",
       "      <th>89631</th>\n",
       "      <td>Positive</td>\n",
       "      <td>[lrihendry, tedcruz, headed, presidential, deb...</td>\n",
       "    </tr>\n",
       "  </tbody>\n",
       "</table>\n",
       "<p>89632 rows × 2 columns</p>\n",
       "</div>"
      ],
      "text/plain": [
       "      sentiment                                         final_text\n",
       "0       Neutral                                         [dhepburn]\n",
       "1      Positive  [plus, youve, added, commercials, experience, ...\n",
       "2       Neutral  [didnt, today, must, mean, need, take, another...\n",
       "3      Negative  [really, aggressive, blast, obnoxious, enterta...\n",
       "4      Negative                          [really, big, bad, thing]\n",
       "...         ...                                                ...\n",
       "89627  Negative  [cappy_yarbrough, love, see, men, never, faced...\n",
       "89628  Positive  [georgehenryw, thought, huckabee, exceeded, ex...\n",
       "89629  Positive  [lrihendry, tedcruz, president, always, tell, ...\n",
       "89630  Negative  [jrehling, gopdebate, donald, trump, says, doe...\n",
       "89631  Positive  [lrihendry, tedcruz, headed, presidential, deb...\n",
       "\n",
       "[89632 rows x 2 columns]"
      ]
     },
     "execution_count": 36,
     "metadata": {},
     "output_type": "execute_result"
    }
   ],
   "source": [
    "df_fin"
   ]
  },
  {
   "cell_type": "code",
   "execution_count": 37,
   "id": "51d4bac2",
   "metadata": {},
   "outputs": [],
   "source": [
    "df_fin['final_text'] = df_fin.final_text.apply(lambda x: ', '.join([str(i) for i in x]))  #joining the tokens"
   ]
  },
  {
   "cell_type": "code",
   "execution_count": 38,
   "id": "5de83284",
   "metadata": {},
   "outputs": [
    {
     "data": {
      "text/html": [
       "<div>\n",
       "<style scoped>\n",
       "    .dataframe tbody tr th:only-of-type {\n",
       "        vertical-align: middle;\n",
       "    }\n",
       "\n",
       "    .dataframe tbody tr th {\n",
       "        vertical-align: top;\n",
       "    }\n",
       "\n",
       "    .dataframe thead th {\n",
       "        text-align: right;\n",
       "    }\n",
       "</style>\n",
       "<table border=\"1\" class=\"dataframe\">\n",
       "  <thead>\n",
       "    <tr style=\"text-align: right;\">\n",
       "      <th></th>\n",
       "      <th>sentiment</th>\n",
       "      <th>final_text</th>\n",
       "    </tr>\n",
       "  </thead>\n",
       "  <tbody>\n",
       "    <tr>\n",
       "      <th>0</th>\n",
       "      <td>Neutral</td>\n",
       "      <td>dhepburn</td>\n",
       "    </tr>\n",
       "    <tr>\n",
       "      <th>1</th>\n",
       "      <td>Positive</td>\n",
       "      <td>plus, youve, added, commercials, experience, t...</td>\n",
       "    </tr>\n",
       "    <tr>\n",
       "      <th>2</th>\n",
       "      <td>Neutral</td>\n",
       "      <td>didnt, today, must, mean, need, take, another,...</td>\n",
       "    </tr>\n",
       "    <tr>\n",
       "      <th>3</th>\n",
       "      <td>Negative</td>\n",
       "      <td>really, aggressive, blast, obnoxious, entertai...</td>\n",
       "    </tr>\n",
       "    <tr>\n",
       "      <th>4</th>\n",
       "      <td>Negative</td>\n",
       "      <td>really, big, bad, thing</td>\n",
       "    </tr>\n",
       "    <tr>\n",
       "      <th>...</th>\n",
       "      <td>...</td>\n",
       "      <td>...</td>\n",
       "    </tr>\n",
       "    <tr>\n",
       "      <th>89627</th>\n",
       "      <td>Negative</td>\n",
       "      <td>cappy_yarbrough, love, see, men, never, faced,...</td>\n",
       "    </tr>\n",
       "    <tr>\n",
       "      <th>89628</th>\n",
       "      <td>Positive</td>\n",
       "      <td>georgehenryw, thought, huckabee, exceeded, exp...</td>\n",
       "    </tr>\n",
       "    <tr>\n",
       "      <th>89629</th>\n",
       "      <td>Positive</td>\n",
       "      <td>lrihendry, tedcruz, president, always, tell, t...</td>\n",
       "    </tr>\n",
       "    <tr>\n",
       "      <th>89630</th>\n",
       "      <td>Negative</td>\n",
       "      <td>jrehling, gopdebate, donald, trump, says, does...</td>\n",
       "    </tr>\n",
       "    <tr>\n",
       "      <th>89631</th>\n",
       "      <td>Positive</td>\n",
       "      <td>lrihendry, tedcruz, headed, presidential, deba...</td>\n",
       "    </tr>\n",
       "  </tbody>\n",
       "</table>\n",
       "<p>89632 rows × 2 columns</p>\n",
       "</div>"
      ],
      "text/plain": [
       "      sentiment                                         final_text\n",
       "0       Neutral                                           dhepburn\n",
       "1      Positive  plus, youve, added, commercials, experience, t...\n",
       "2       Neutral  didnt, today, must, mean, need, take, another,...\n",
       "3      Negative  really, aggressive, blast, obnoxious, entertai...\n",
       "4      Negative                            really, big, bad, thing\n",
       "...         ...                                                ...\n",
       "89627  Negative  cappy_yarbrough, love, see, men, never, faced,...\n",
       "89628  Positive  georgehenryw, thought, huckabee, exceeded, exp...\n",
       "89629  Positive  lrihendry, tedcruz, president, always, tell, t...\n",
       "89630  Negative  jrehling, gopdebate, donald, trump, says, does...\n",
       "89631  Positive  lrihendry, tedcruz, headed, presidential, deba...\n",
       "\n",
       "[89632 rows x 2 columns]"
      ]
     },
     "execution_count": 38,
     "metadata": {},
     "output_type": "execute_result"
    }
   ],
   "source": [
    "df_fin"
   ]
  },
  {
   "cell_type": "code",
   "execution_count": 39,
   "id": "56116d23",
   "metadata": {},
   "outputs": [
    {
     "name": "stdout",
     "output_type": "stream",
     "text": [
      "Sentimentos: 0        1\n",
      "1        2\n",
      "2        1\n",
      "3        0\n",
      "4        0\n",
      "        ..\n",
      "89627    0\n",
      "89628    2\n",
      "89629    2\n",
      "89630    0\n",
      "89631    2\n",
      "Name: sentiment, Length: 89632, dtype: int64\n"
     ]
    }
   ],
   "source": []
  },
  {
   "cell_type": "code",
   "execution_count": null,
   "id": "af8424cb",
   "metadata": {},
   "outputs": [],
   "source": []
  },
  {
   "cell_type": "code",
   "execution_count": 40,
   "id": "789b6911",
   "metadata": {},
   "outputs": [],
   "source": [
    "#putting features in X and target in y\n",
    "X=df_fin.final_text\n",
    "y=df_fin.sentiment"
   ]
  },
  {
   "cell_type": "code",
   "execution_count": 41,
   "id": "a64720c5",
   "metadata": {},
   "outputs": [
    {
     "data": {
      "text/plain": [
       "0                                                 dhepburn\n",
       "1        plus, youve, added, commercials, experience, t...\n",
       "2        didnt, today, must, mean, need, take, another,...\n",
       "3        really, aggressive, blast, obnoxious, entertai...\n",
       "4                                  really, big, bad, thing\n",
       "                               ...                        \n",
       "89627    cappy_yarbrough, love, see, men, never, faced,...\n",
       "89628    georgehenryw, thought, huckabee, exceeded, exp...\n",
       "89629    lrihendry, tedcruz, president, always, tell, t...\n",
       "89630    jrehling, gopdebate, donald, trump, says, does...\n",
       "89631    lrihendry, tedcruz, headed, presidential, deba...\n",
       "Name: final_text, Length: 89632, dtype: object"
      ]
     },
     "execution_count": 41,
     "metadata": {},
     "output_type": "execute_result"
    }
   ],
   "source": [
    "X"
   ]
  },
  {
   "cell_type": "code",
   "execution_count": 42,
   "id": "570099d3",
   "metadata": {},
   "outputs": [
    {
     "data": {
      "text/plain": [
       "0        1\n",
       "1        2\n",
       "2        1\n",
       "3        0\n",
       "4        0\n",
       "        ..\n",
       "89627    0\n",
       "89628    2\n",
       "89629    2\n",
       "89630    0\n",
       "89631    2\n",
       "Name: sentiment, Length: 89632, dtype: int64"
      ]
     },
     "execution_count": 42,
     "metadata": {},
     "output_type": "execute_result"
    }
   ],
   "source": [
    "y"
   ]
  },
  {
   "cell_type": "code",
   "execution_count": 43,
   "id": "b8637d13",
   "metadata": {},
   "outputs": [],
   "source": [
    "#importing the necessary modules for ml\n",
    "from sklearn.model_selection import train_test_split\n",
    "from sklearn.feature_extraction.text import CountVectorizer, TfidfVectorizer\n",
    "from sklearn.tree import DecisionTreeClassifier\n",
    "from sklearn.ensemble import RandomForestClassifier\n",
    "from sklearn.naive_bayes import MultinomialNB\n",
    "from sklearn.svm import SVC\n",
    "from sklearn.metrics import accuracy_score\n",
    "from sklearn.neighbors import KNeighborsClassifier"
   ]
  },
  {
   "cell_type": "code",
   "execution_count": 44,
   "id": "1810f8c6",
   "metadata": {},
   "outputs": [],
   "source": [
    "#initializing the vectorizers\n",
    "c = CountVectorizer()\n",
    "X_c = c.fit_transform(X)\n",
    "\n",
    "\n",
    "tf = TfidfVectorizer(strip_accents=None,\n",
    "                        lowercase=False,\n",
    "                        preprocessor=None)\n",
    "X_tf = tf.fit_transform(X)"
   ]
  },
  {
   "cell_type": "code",
   "execution_count": 45,
   "id": "02be30c5",
   "metadata": {},
   "outputs": [
    {
     "data": {
      "text/plain": [
       "<89632x43967 sparse matrix of type '<class 'numpy.float64'>'\n",
       "\twith 855980 stored elements in Compressed Sparse Row format>"
      ]
     },
     "execution_count": 45,
     "metadata": {},
     "output_type": "execute_result"
    }
   ],
   "source": [
    "X_tf"
   ]
  },
  {
   "cell_type": "code",
   "execution_count": 46,
   "id": "d3fb0fb9",
   "metadata": {},
   "outputs": [],
   "source": [
    "X_train,X_test,y_train,y_test=train_test_split(X_c,y,random_state=30,test_size=0.2) #splitting for tfidf"
   ]
  },
  {
   "cell_type": "code",
   "execution_count": 47,
   "id": "57040474",
   "metadata": {},
   "outputs": [],
   "source": [
    "X_train1,X_test1,y_train1,y_test1=train_test_split(X_tf,y,random_state=30,test_size=0.2) #splitting for count"
   ]
  },
  {
   "cell_type": "code",
   "execution_count": 48,
   "id": "45782527",
   "metadata": {},
   "outputs": [
    {
     "data": {
      "text/plain": [
       "array([0, 1, 2], dtype=int64)"
      ]
     },
     "execution_count": 48,
     "metadata": {},
     "output_type": "execute_result"
    }
   ],
   "source": [
    "np.unique(y_train)"
   ]
  },
  {
   "cell_type": "code",
   "execution_count": 49,
   "id": "376e396c",
   "metadata": {},
   "outputs": [],
   "source": [
    "model_params = {'random_state':42}\n",
    "\n",
    "\n",
    "LR=LogisticRegression(solver='liblinear')\n",
    "MNB=MultinomialNB()\n",
    "KNN=KNeighborsClassifier()\n",
    "#initializing the models"
   ]
  },
  {
   "cell_type": "code",
   "execution_count": 50,
   "id": "912f390f",
   "metadata": {},
   "outputs": [
    {
     "name": "stdout",
     "output_type": "stream",
     "text": [
      "tfidf\n",
      "0.7610866291069337\n",
      "0.7318569755117978\n",
      "0.7460813298376751\n"
     ]
    }
   ],
   "source": [
    "#training and printing the accuracy \n",
    "print(\"tfidf\")\n",
    "print(accuracy_score(LR.fit(X_train1,y_train1).predict(X_test1),y_test1))\n",
    "print(accuracy_score(MNB.fit(X_train1,y_train1).predict(X_test1),y_test1))\n",
    "print(accuracy_score(KNN.fit(X_train1,y_train1).predict(X_test1),y_test1))\n",
    "\n"
   ]
  },
  {
   "cell_type": "code",
   "execution_count": 51,
   "id": "b1ca2401",
   "metadata": {},
   "outputs": [
    {
     "name": "stdout",
     "output_type": "stream",
     "text": [
      "countvectorizer\n",
      "0.7884197021252859\n",
      "0.7418976962124171\n",
      "0.7448541306409326\n"
     ]
    }
   ],
   "source": [
    "#training and printing the accuracy \n",
    "print(\"countvectorizer\")\n",
    "print(accuracy_score(LR.fit(X_train,y_train).predict(X_test),y_test))\n",
    "print(accuracy_score(MNB.fit(X_train,y_train).predict(X_test),y_test))\n",
    "\n",
    "print(accuracy_score(KNN.fit(X_train,y_train).predict(X_test),y_test))\n",
    "\n"
   ]
  },
  {
   "cell_type": "code",
   "execution_count": 52,
   "id": "8c513738",
   "metadata": {},
   "outputs": [
    {
     "data": {
      "text/html": [
       "<style>#sk-container-id-1 {\n",
       "  /* Definition of color scheme common for light and dark mode */\n",
       "  --sklearn-color-text: black;\n",
       "  --sklearn-color-line: gray;\n",
       "  /* Definition of color scheme for unfitted estimators */\n",
       "  --sklearn-color-unfitted-level-0: #fff5e6;\n",
       "  --sklearn-color-unfitted-level-1: #f6e4d2;\n",
       "  --sklearn-color-unfitted-level-2: #ffe0b3;\n",
       "  --sklearn-color-unfitted-level-3: chocolate;\n",
       "  /* Definition of color scheme for fitted estimators */\n",
       "  --sklearn-color-fitted-level-0: #f0f8ff;\n",
       "  --sklearn-color-fitted-level-1: #d4ebff;\n",
       "  --sklearn-color-fitted-level-2: #b3dbfd;\n",
       "  --sklearn-color-fitted-level-3: cornflowerblue;\n",
       "\n",
       "  /* Specific color for light theme */\n",
       "  --sklearn-color-text-on-default-background: var(--sg-text-color, var(--theme-code-foreground, var(--jp-content-font-color1, black)));\n",
       "  --sklearn-color-background: var(--sg-background-color, var(--theme-background, var(--jp-layout-color0, white)));\n",
       "  --sklearn-color-border-box: var(--sg-text-color, var(--theme-code-foreground, var(--jp-content-font-color1, black)));\n",
       "  --sklearn-color-icon: #696969;\n",
       "\n",
       "  @media (prefers-color-scheme: dark) {\n",
       "    /* Redefinition of color scheme for dark theme */\n",
       "    --sklearn-color-text-on-default-background: var(--sg-text-color, var(--theme-code-foreground, var(--jp-content-font-color1, white)));\n",
       "    --sklearn-color-background: var(--sg-background-color, var(--theme-background, var(--jp-layout-color0, #111)));\n",
       "    --sklearn-color-border-box: var(--sg-text-color, var(--theme-code-foreground, var(--jp-content-font-color1, white)));\n",
       "    --sklearn-color-icon: #878787;\n",
       "  }\n",
       "}\n",
       "\n",
       "#sk-container-id-1 {\n",
       "  color: var(--sklearn-color-text);\n",
       "}\n",
       "\n",
       "#sk-container-id-1 pre {\n",
       "  padding: 0;\n",
       "}\n",
       "\n",
       "#sk-container-id-1 input.sk-hidden--visually {\n",
       "  border: 0;\n",
       "  clip: rect(1px 1px 1px 1px);\n",
       "  clip: rect(1px, 1px, 1px, 1px);\n",
       "  height: 1px;\n",
       "  margin: -1px;\n",
       "  overflow: hidden;\n",
       "  padding: 0;\n",
       "  position: absolute;\n",
       "  width: 1px;\n",
       "}\n",
       "\n",
       "#sk-container-id-1 div.sk-dashed-wrapped {\n",
       "  border: 1px dashed var(--sklearn-color-line);\n",
       "  margin: 0 0.4em 0.5em 0.4em;\n",
       "  box-sizing: border-box;\n",
       "  padding-bottom: 0.4em;\n",
       "  background-color: var(--sklearn-color-background);\n",
       "}\n",
       "\n",
       "#sk-container-id-1 div.sk-container {\n",
       "  /* jupyter's `normalize.less` sets `[hidden] { display: none; }`\n",
       "     but bootstrap.min.css set `[hidden] { display: none !important; }`\n",
       "     so we also need the `!important` here to be able to override the\n",
       "     default hidden behavior on the sphinx rendered scikit-learn.org.\n",
       "     See: https://github.com/scikit-learn/scikit-learn/issues/21755 */\n",
       "  display: inline-block !important;\n",
       "  position: relative;\n",
       "}\n",
       "\n",
       "#sk-container-id-1 div.sk-text-repr-fallback {\n",
       "  display: none;\n",
       "}\n",
       "\n",
       "div.sk-parallel-item,\n",
       "div.sk-serial,\n",
       "div.sk-item {\n",
       "  /* draw centered vertical line to link estimators */\n",
       "  background-image: linear-gradient(var(--sklearn-color-text-on-default-background), var(--sklearn-color-text-on-default-background));\n",
       "  background-size: 2px 100%;\n",
       "  background-repeat: no-repeat;\n",
       "  background-position: center center;\n",
       "}\n",
       "\n",
       "/* Parallel-specific style estimator block */\n",
       "\n",
       "#sk-container-id-1 div.sk-parallel-item::after {\n",
       "  content: \"\";\n",
       "  width: 100%;\n",
       "  border-bottom: 2px solid var(--sklearn-color-text-on-default-background);\n",
       "  flex-grow: 1;\n",
       "}\n",
       "\n",
       "#sk-container-id-1 div.sk-parallel {\n",
       "  display: flex;\n",
       "  align-items: stretch;\n",
       "  justify-content: center;\n",
       "  background-color: var(--sklearn-color-background);\n",
       "  position: relative;\n",
       "}\n",
       "\n",
       "#sk-container-id-1 div.sk-parallel-item {\n",
       "  display: flex;\n",
       "  flex-direction: column;\n",
       "}\n",
       "\n",
       "#sk-container-id-1 div.sk-parallel-item:first-child::after {\n",
       "  align-self: flex-end;\n",
       "  width: 50%;\n",
       "}\n",
       "\n",
       "#sk-container-id-1 div.sk-parallel-item:last-child::after {\n",
       "  align-self: flex-start;\n",
       "  width: 50%;\n",
       "}\n",
       "\n",
       "#sk-container-id-1 div.sk-parallel-item:only-child::after {\n",
       "  width: 0;\n",
       "}\n",
       "\n",
       "/* Serial-specific style estimator block */\n",
       "\n",
       "#sk-container-id-1 div.sk-serial {\n",
       "  display: flex;\n",
       "  flex-direction: column;\n",
       "  align-items: center;\n",
       "  background-color: var(--sklearn-color-background);\n",
       "  padding-right: 1em;\n",
       "  padding-left: 1em;\n",
       "}\n",
       "\n",
       "\n",
       "/* Toggleable style: style used for estimator/Pipeline/ColumnTransformer box that is\n",
       "clickable and can be expanded/collapsed.\n",
       "- Pipeline and ColumnTransformer use this feature and define the default style\n",
       "- Estimators will overwrite some part of the style using the `sk-estimator` class\n",
       "*/\n",
       "\n",
       "/* Pipeline and ColumnTransformer style (default) */\n",
       "\n",
       "#sk-container-id-1 div.sk-toggleable {\n",
       "  /* Default theme specific background. It is overwritten whether we have a\n",
       "  specific estimator or a Pipeline/ColumnTransformer */\n",
       "  background-color: var(--sklearn-color-background);\n",
       "}\n",
       "\n",
       "/* Toggleable label */\n",
       "#sk-container-id-1 label.sk-toggleable__label {\n",
       "  cursor: pointer;\n",
       "  display: block;\n",
       "  width: 100%;\n",
       "  margin-bottom: 0;\n",
       "  padding: 0.5em;\n",
       "  box-sizing: border-box;\n",
       "  text-align: center;\n",
       "}\n",
       "\n",
       "#sk-container-id-1 label.sk-toggleable__label-arrow:before {\n",
       "  /* Arrow on the left of the label */\n",
       "  content: \"▸\";\n",
       "  float: left;\n",
       "  margin-right: 0.25em;\n",
       "  color: var(--sklearn-color-icon);\n",
       "}\n",
       "\n",
       "#sk-container-id-1 label.sk-toggleable__label-arrow:hover:before {\n",
       "  color: var(--sklearn-color-text);\n",
       "}\n",
       "\n",
       "/* Toggleable content - dropdown */\n",
       "\n",
       "#sk-container-id-1 div.sk-toggleable__content {\n",
       "  max-height: 0;\n",
       "  max-width: 0;\n",
       "  overflow: hidden;\n",
       "  text-align: left;\n",
       "  /* unfitted */\n",
       "  background-color: var(--sklearn-color-unfitted-level-0);\n",
       "}\n",
       "\n",
       "#sk-container-id-1 div.sk-toggleable__content.fitted {\n",
       "  /* fitted */\n",
       "  background-color: var(--sklearn-color-fitted-level-0);\n",
       "}\n",
       "\n",
       "#sk-container-id-1 div.sk-toggleable__content pre {\n",
       "  margin: 0.2em;\n",
       "  border-radius: 0.25em;\n",
       "  color: var(--sklearn-color-text);\n",
       "  /* unfitted */\n",
       "  background-color: var(--sklearn-color-unfitted-level-0);\n",
       "}\n",
       "\n",
       "#sk-container-id-1 div.sk-toggleable__content.fitted pre {\n",
       "  /* unfitted */\n",
       "  background-color: var(--sklearn-color-fitted-level-0);\n",
       "}\n",
       "\n",
       "#sk-container-id-1 input.sk-toggleable__control:checked~div.sk-toggleable__content {\n",
       "  /* Expand drop-down */\n",
       "  max-height: 200px;\n",
       "  max-width: 100%;\n",
       "  overflow: auto;\n",
       "}\n",
       "\n",
       "#sk-container-id-1 input.sk-toggleable__control:checked~label.sk-toggleable__label-arrow:before {\n",
       "  content: \"▾\";\n",
       "}\n",
       "\n",
       "/* Pipeline/ColumnTransformer-specific style */\n",
       "\n",
       "#sk-container-id-1 div.sk-label input.sk-toggleable__control:checked~label.sk-toggleable__label {\n",
       "  color: var(--sklearn-color-text);\n",
       "  background-color: var(--sklearn-color-unfitted-level-2);\n",
       "}\n",
       "\n",
       "#sk-container-id-1 div.sk-label.fitted input.sk-toggleable__control:checked~label.sk-toggleable__label {\n",
       "  background-color: var(--sklearn-color-fitted-level-2);\n",
       "}\n",
       "\n",
       "/* Estimator-specific style */\n",
       "\n",
       "/* Colorize estimator box */\n",
       "#sk-container-id-1 div.sk-estimator input.sk-toggleable__control:checked~label.sk-toggleable__label {\n",
       "  /* unfitted */\n",
       "  background-color: var(--sklearn-color-unfitted-level-2);\n",
       "}\n",
       "\n",
       "#sk-container-id-1 div.sk-estimator.fitted input.sk-toggleable__control:checked~label.sk-toggleable__label {\n",
       "  /* fitted */\n",
       "  background-color: var(--sklearn-color-fitted-level-2);\n",
       "}\n",
       "\n",
       "#sk-container-id-1 div.sk-label label.sk-toggleable__label,\n",
       "#sk-container-id-1 div.sk-label label {\n",
       "  /* The background is the default theme color */\n",
       "  color: var(--sklearn-color-text-on-default-background);\n",
       "}\n",
       "\n",
       "/* On hover, darken the color of the background */\n",
       "#sk-container-id-1 div.sk-label:hover label.sk-toggleable__label {\n",
       "  color: var(--sklearn-color-text);\n",
       "  background-color: var(--sklearn-color-unfitted-level-2);\n",
       "}\n",
       "\n",
       "/* Label box, darken color on hover, fitted */\n",
       "#sk-container-id-1 div.sk-label.fitted:hover label.sk-toggleable__label.fitted {\n",
       "  color: var(--sklearn-color-text);\n",
       "  background-color: var(--sklearn-color-fitted-level-2);\n",
       "}\n",
       "\n",
       "/* Estimator label */\n",
       "\n",
       "#sk-container-id-1 div.sk-label label {\n",
       "  font-family: monospace;\n",
       "  font-weight: bold;\n",
       "  display: inline-block;\n",
       "  line-height: 1.2em;\n",
       "}\n",
       "\n",
       "#sk-container-id-1 div.sk-label-container {\n",
       "  text-align: center;\n",
       "}\n",
       "\n",
       "/* Estimator-specific */\n",
       "#sk-container-id-1 div.sk-estimator {\n",
       "  font-family: monospace;\n",
       "  border: 1px dotted var(--sklearn-color-border-box);\n",
       "  border-radius: 0.25em;\n",
       "  box-sizing: border-box;\n",
       "  margin-bottom: 0.5em;\n",
       "  /* unfitted */\n",
       "  background-color: var(--sklearn-color-unfitted-level-0);\n",
       "}\n",
       "\n",
       "#sk-container-id-1 div.sk-estimator.fitted {\n",
       "  /* fitted */\n",
       "  background-color: var(--sklearn-color-fitted-level-0);\n",
       "}\n",
       "\n",
       "/* on hover */\n",
       "#sk-container-id-1 div.sk-estimator:hover {\n",
       "  /* unfitted */\n",
       "  background-color: var(--sklearn-color-unfitted-level-2);\n",
       "}\n",
       "\n",
       "#sk-container-id-1 div.sk-estimator.fitted:hover {\n",
       "  /* fitted */\n",
       "  background-color: var(--sklearn-color-fitted-level-2);\n",
       "}\n",
       "\n",
       "/* Specification for estimator info (e.g. \"i\" and \"?\") */\n",
       "\n",
       "/* Common style for \"i\" and \"?\" */\n",
       "\n",
       ".sk-estimator-doc-link,\n",
       "a:link.sk-estimator-doc-link,\n",
       "a:visited.sk-estimator-doc-link {\n",
       "  float: right;\n",
       "  font-size: smaller;\n",
       "  line-height: 1em;\n",
       "  font-family: monospace;\n",
       "  background-color: var(--sklearn-color-background);\n",
       "  border-radius: 1em;\n",
       "  height: 1em;\n",
       "  width: 1em;\n",
       "  text-decoration: none !important;\n",
       "  margin-left: 1ex;\n",
       "  /* unfitted */\n",
       "  border: var(--sklearn-color-unfitted-level-1) 1pt solid;\n",
       "  color: var(--sklearn-color-unfitted-level-1);\n",
       "}\n",
       "\n",
       ".sk-estimator-doc-link.fitted,\n",
       "a:link.sk-estimator-doc-link.fitted,\n",
       "a:visited.sk-estimator-doc-link.fitted {\n",
       "  /* fitted */\n",
       "  border: var(--sklearn-color-fitted-level-1) 1pt solid;\n",
       "  color: var(--sklearn-color-fitted-level-1);\n",
       "}\n",
       "\n",
       "/* On hover */\n",
       "div.sk-estimator:hover .sk-estimator-doc-link:hover,\n",
       ".sk-estimator-doc-link:hover,\n",
       "div.sk-label-container:hover .sk-estimator-doc-link:hover,\n",
       ".sk-estimator-doc-link:hover {\n",
       "  /* unfitted */\n",
       "  background-color: var(--sklearn-color-unfitted-level-3);\n",
       "  color: var(--sklearn-color-background);\n",
       "  text-decoration: none;\n",
       "}\n",
       "\n",
       "div.sk-estimator.fitted:hover .sk-estimator-doc-link.fitted:hover,\n",
       ".sk-estimator-doc-link.fitted:hover,\n",
       "div.sk-label-container:hover .sk-estimator-doc-link.fitted:hover,\n",
       ".sk-estimator-doc-link.fitted:hover {\n",
       "  /* fitted */\n",
       "  background-color: var(--sklearn-color-fitted-level-3);\n",
       "  color: var(--sklearn-color-background);\n",
       "  text-decoration: none;\n",
       "}\n",
       "\n",
       "/* Span, style for the box shown on hovering the info icon */\n",
       ".sk-estimator-doc-link span {\n",
       "  display: none;\n",
       "  z-index: 9999;\n",
       "  position: relative;\n",
       "  font-weight: normal;\n",
       "  right: .2ex;\n",
       "  padding: .5ex;\n",
       "  margin: .5ex;\n",
       "  width: min-content;\n",
       "  min-width: 20ex;\n",
       "  max-width: 50ex;\n",
       "  color: var(--sklearn-color-text);\n",
       "  box-shadow: 2pt 2pt 4pt #999;\n",
       "  /* unfitted */\n",
       "  background: var(--sklearn-color-unfitted-level-0);\n",
       "  border: .5pt solid var(--sklearn-color-unfitted-level-3);\n",
       "}\n",
       "\n",
       ".sk-estimator-doc-link.fitted span {\n",
       "  /* fitted */\n",
       "  background: var(--sklearn-color-fitted-level-0);\n",
       "  border: var(--sklearn-color-fitted-level-3);\n",
       "}\n",
       "\n",
       ".sk-estimator-doc-link:hover span {\n",
       "  display: block;\n",
       "}\n",
       "\n",
       "/* \"?\"-specific style due to the `<a>` HTML tag */\n",
       "\n",
       "#sk-container-id-1 a.estimator_doc_link {\n",
       "  float: right;\n",
       "  font-size: 1rem;\n",
       "  line-height: 1em;\n",
       "  font-family: monospace;\n",
       "  background-color: var(--sklearn-color-background);\n",
       "  border-radius: 1rem;\n",
       "  height: 1rem;\n",
       "  width: 1rem;\n",
       "  text-decoration: none;\n",
       "  /* unfitted */\n",
       "  color: var(--sklearn-color-unfitted-level-1);\n",
       "  border: var(--sklearn-color-unfitted-level-1) 1pt solid;\n",
       "}\n",
       "\n",
       "#sk-container-id-1 a.estimator_doc_link.fitted {\n",
       "  /* fitted */\n",
       "  border: var(--sklearn-color-fitted-level-1) 1pt solid;\n",
       "  color: var(--sklearn-color-fitted-level-1);\n",
       "}\n",
       "\n",
       "/* On hover */\n",
       "#sk-container-id-1 a.estimator_doc_link:hover {\n",
       "  /* unfitted */\n",
       "  background-color: var(--sklearn-color-unfitted-level-3);\n",
       "  color: var(--sklearn-color-background);\n",
       "  text-decoration: none;\n",
       "}\n",
       "\n",
       "#sk-container-id-1 a.estimator_doc_link.fitted:hover {\n",
       "  /* fitted */\n",
       "  background-color: var(--sklearn-color-fitted-level-3);\n",
       "}\n",
       "</style><div id=\"sk-container-id-1\" class=\"sk-top-container\"><div class=\"sk-text-repr-fallback\"><pre>KNeighborsClassifier()</pre><b>In a Jupyter environment, please rerun this cell to show the HTML representation or trust the notebook. <br />On GitHub, the HTML representation is unable to render, please try loading this page with nbviewer.org.</b></div><div class=\"sk-container\" hidden><div class=\"sk-item\"><div class=\"sk-estimator fitted sk-toggleable\"><input class=\"sk-toggleable__control sk-hidden--visually\" id=\"sk-estimator-id-1\" type=\"checkbox\" checked><label for=\"sk-estimator-id-1\" class=\"sk-toggleable__label fitted sk-toggleable__label-arrow fitted\">&nbsp;&nbsp;KNeighborsClassifier<a class=\"sk-estimator-doc-link fitted\" rel=\"noreferrer\" target=\"_blank\" href=\"https://scikit-learn.org/1.4/modules/generated/sklearn.neighbors.KNeighborsClassifier.html\">?<span>Documentation for KNeighborsClassifier</span></a><span class=\"sk-estimator-doc-link fitted\">i<span>Fitted</span></span></label><div class=\"sk-toggleable__content fitted\"><pre>KNeighborsClassifier()</pre></div> </div></div></div></div>"
      ],
      "text/plain": [
       "KNeighborsClassifier()"
      ]
     },
     "execution_count": 52,
     "metadata": {},
     "output_type": "execute_result"
    }
   ],
   "source": [
    "#retraining the best model\n",
    "LR.fit(X_train,y_train)\n",
    "MNB.fit(X_train,y_train)\n",
    "KNN.fit(X_train,y_train)"
   ]
  },
  {
   "cell_type": "code",
   "execution_count": 53,
   "id": "624cd760",
   "metadata": {},
   "outputs": [
    {
     "data": {
      "text/plain": [
       "['model2']"
      ]
     },
     "execution_count": 53,
     "metadata": {},
     "output_type": "execute_result"
    }
   ],
   "source": [
    "#dumping the model for the web app\n",
    "joblib.dump(tf,'tf')\n",
    "joblib.dump(LR,'model')\n",
    "joblib.dump(MNB,'model1')\n",
    "joblib.dump(KNN,'model2')\n"
   ]
  },
  {
   "cell_type": "code",
   "execution_count": 45,
   "id": "017ed5ea",
   "metadata": {},
   "outputs": [],
   "source": [
    "#renaming the columns so it works with transformers\n",
    "final_df.rename(columns={'sentiment':'label','text':'text'},inplace=True)"
   ]
  },
  {
   "cell_type": "code",
   "execution_count": 47,
   "id": "d76b3efb",
   "metadata": {},
   "outputs": [],
   "source": [
    "import pandas as pd\n",
    "from datasets import Dataset\n",
    "from sklearn.model_selection import train_test_split\n",
    "\n",
    "\n",
    "\n",
    "# Split into train and test sets\n",
    "train_df, test_df = train_test_split(final_df, test_size=0.2, random_state=42)\n",
    "\n",
    "# Convert to Hugging Face Dataset\n",
    "train_dataset = Dataset.from_pandas(train_df)\n",
    "test_dataset = Dataset.from_pandas(test_df)\n"
   ]
  },
  {
   "cell_type": "code",
   "execution_count": 166,
   "id": "5410d314",
   "metadata": {},
   "outputs": [
    {
     "name": "stderr",
     "output_type": "stream",
     "text": [
      "Some weights of DistilBertForSequenceClassification were not initialized from the model checkpoint at distilbert-base-uncased and are newly initialized: ['classifier.bias', 'classifier.weight', 'pre_classifier.bias', 'pre_classifier.weight']\n",
      "You should probably TRAIN this model on a down-stream task to be able to use it for predictions and inference.\n"
     ]
    },
    {
     "data": {
      "application/vnd.jupyter.widget-view+json": {
       "model_id": "d94e6a6bf1914b4ea59e00831dedbf36",
       "version_major": 2,
       "version_minor": 0
      },
      "text/plain": [
       "Map:   0%|          | 0/71705 [00:00<?, ? examples/s]"
      ]
     },
     "metadata": {},
     "output_type": "display_data"
    },
    {
     "data": {
      "application/vnd.jupyter.widget-view+json": {
       "model_id": "57a89a57aca0443782c703f4d7be573d",
       "version_major": 2,
       "version_minor": 0
      },
      "text/plain": [
       "Map:   0%|          | 0/17927 [00:00<?, ? examples/s]"
      ]
     },
     "metadata": {},
     "output_type": "display_data"
    }
   ],
   "source": [
    "#importing the initializing for distilbert\n",
    "from transformers import AutoTokenizer\n",
    "\n",
    "\n",
    "#creating the model and the tokenizer \n",
    "model_checkpoint = \"distilbert-base-uncased\"   \n",
    "tokenizer = AutoTokenizer.from_pretrained(model_checkpoint)\n",
    "model = AutoModelForSequenceClassification.from_pretrained(model_checkpoint, num_labels=3)\n",
    "\n",
    "\n",
    "#preprocessig function for the transformer\n",
    "def preprocess_function(examples):\n",
    "    return tokenizer(examples[\"text\"], truncation=True, padding=True)\n",
    "\n",
    "\n",
    "#mapping the dataset\n",
    "train_dataset = train_dataset.map(preprocess_function, batched=True)\n",
    "test_dataset = test_dataset.map(preprocess_function, batched=True)\n",
    "\n",
    "# Set format for PyTorch\n",
    "train_dataset.set_format(type='torch', columns=['input_ids', 'attention_mask', 'label'])\n",
    "test_dataset.set_format(type='torch', columns=['input_ids', 'attention_mask', 'label'])"
   ]
  },
  {
   "cell_type": "code",
   "execution_count": 167,
   "id": "595a7c86",
   "metadata": {},
   "outputs": [
    {
     "data": {
      "text/plain": [
       "Dataset({\n",
       "    features: ['text', 'label', '__index_level_0__', 'input_ids', 'attention_mask'],\n",
       "    num_rows: 71705\n",
       "})"
      ]
     },
     "execution_count": 167,
     "metadata": {},
     "output_type": "execute_result"
    }
   ],
   "source": [
    "train_dataset"
   ]
  },
  {
   "cell_type": "code",
   "execution_count": 38,
   "id": "7260a39b",
   "metadata": {},
   "outputs": [],
   "source": [
    "from transformers import TrainingArguments\n",
    "\n",
    "training_args = TrainingArguments(\n",
    "    output_dir=\"./results\",\n",
    "    eval_strategy=\"steps\",  # Evaluate and save model every `eval_steps` and `save_steps`\n",
    "    save_strategy=\"steps\",\n",
    "    learning_rate=2e-5,\n",
    "    per_device_train_batch_size=16,\n",
    "    per_device_eval_batch_size=16,\n",
    "    num_train_epochs=3,\n",
    "    weight_decay=0.01,\n",
    "    logging_dir='./logs',\n",
    "    logging_steps=500,\n",
    "    save_steps=500,\n",
    "    eval_steps=500,\n",
    "    save_total_limit=2,\n",
    "    load_best_model_at_end=True,\n",
    "    metric_for_best_model=\"accuracy\",\n",
    "    report_to=\"none\",\n",
    "    fp16=True  # Use mixed precision training if supported\n",
    ")\n"
   ]
  },
  {
   "cell_type": "code",
   "execution_count": 43,
   "id": "1b0baf1e",
   "metadata": {},
   "outputs": [],
   "source": [
    "#creating a metric function to evaluate the transformer\n",
    "import numpy as np\n",
    "import evaluate\n",
    "\n",
    "metric = evaluate.load(\"accuracy\")\n",
    "\n",
    "def compute_metrics(p):\n",
    "    preds = np.argmax(p.predictions, axis=1)\n",
    "    return metric.compute(predictions=preds, references=p.label_ids)\n"
   ]
  },
  {
   "cell_type": "code",
   "execution_count": 170,
   "id": "a74b24f6",
   "metadata": {},
   "outputs": [
    {
     "data": {
      "application/vnd.jupyter.widget-view+json": {
       "model_id": "921c3f5545504ddcb879d4b0e8ebf073",
       "version_major": 2,
       "version_minor": 0
      },
      "text/plain": [
       "  0%|          | 0/13446 [00:00<?, ?it/s]"
      ]
     },
     "metadata": {},
     "output_type": "display_data"
    },
    {
     "name": "stdout",
     "output_type": "stream",
     "text": [
      "{'loss': 0.8039, 'grad_norm': 4.830151557922363, 'learning_rate': 1.9257771828052953e-05, 'epoch': 0.11}\n"
     ]
    },
    {
     "data": {
      "application/vnd.jupyter.widget-view+json": {
       "model_id": "1181956e26524cc190cfa37bfec72c6d",
       "version_major": 2,
       "version_minor": 0
      },
      "text/plain": [
       "  0%|          | 0/1121 [00:00<?, ?it/s]"
      ]
     },
     "metadata": {},
     "output_type": "display_data"
    },
    {
     "name": "stdout",
     "output_type": "stream",
     "text": [
      "{'eval_loss': 0.6990540027618408, 'eval_accuracy': 0.7087075361187036, 'eval_runtime': 15.4642, 'eval_samples_per_second': 1159.262, 'eval_steps_per_second': 72.49, 'epoch': 0.11}\n",
      "{'loss': 0.692, 'grad_norm': 5.332292556762695, 'learning_rate': 1.85140562248996e-05, 'epoch': 0.22}\n"
     ]
    },
    {
     "data": {
      "application/vnd.jupyter.widget-view+json": {
       "model_id": "e8224fcc3e774206a2380433e810969c",
       "version_major": 2,
       "version_minor": 0
      },
      "text/plain": [
       "  0%|          | 0/1121 [00:00<?, ?it/s]"
      ]
     },
     "metadata": {},
     "output_type": "display_data"
    },
    {
     "name": "stdout",
     "output_type": "stream",
     "text": [
      "{'eval_loss': 0.658303439617157, 'eval_accuracy': 0.7305739945333855, 'eval_runtime': 15.3299, 'eval_samples_per_second': 1169.416, 'eval_steps_per_second': 73.125, 'epoch': 0.22}\n",
      "{'loss': 0.6563, 'grad_norm': 5.7382402420043945, 'learning_rate': 1.7770340621746243e-05, 'epoch': 0.33}\n"
     ]
    },
    {
     "data": {
      "application/vnd.jupyter.widget-view+json": {
       "model_id": "ff2b6d212b3f4c1e8d51cd727db44e5b",
       "version_major": 2,
       "version_minor": 0
      },
      "text/plain": [
       "  0%|          | 0/1121 [00:00<?, ?it/s]"
      ]
     },
     "metadata": {},
     "output_type": "display_data"
    },
    {
     "name": "stdout",
     "output_type": "stream",
     "text": [
      "{'eval_loss': 0.6229723691940308, 'eval_accuracy': 0.7461928934010152, 'eval_runtime': 15.4761, 'eval_samples_per_second': 1158.368, 'eval_steps_per_second': 72.434, 'epoch': 0.33}\n",
      "{'loss': 0.613, 'grad_norm': 5.496277332305908, 'learning_rate': 1.702662501859289e-05, 'epoch': 0.45}\n"
     ]
    },
    {
     "data": {
      "application/vnd.jupyter.widget-view+json": {
       "model_id": "07c296736a054adc816c3852e5488c4f",
       "version_major": 2,
       "version_minor": 0
      },
      "text/plain": [
       "  0%|          | 0/1121 [00:00<?, ?it/s]"
      ]
     },
     "metadata": {},
     "output_type": "display_data"
    },
    {
     "name": "stdout",
     "output_type": "stream",
     "text": [
      "{'eval_loss': 0.5851680636405945, 'eval_accuracy': 0.768617169632398, 'eval_runtime': 15.3094, 'eval_samples_per_second': 1170.978, 'eval_steps_per_second': 73.223, 'epoch': 0.45}\n",
      "{'loss': 0.599, 'grad_norm': 5.065333843231201, 'learning_rate': 1.6285884277852152e-05, 'epoch': 0.56}\n"
     ]
    },
    {
     "data": {
      "application/vnd.jupyter.widget-view+json": {
       "model_id": "75744c0e7bd94e3eabc09ac064f8578c",
       "version_major": 2,
       "version_minor": 0
      },
      "text/plain": [
       "  0%|          | 0/1121 [00:00<?, ?it/s]"
      ]
     },
     "metadata": {},
     "output_type": "display_data"
    },
    {
     "name": "stdout",
     "output_type": "stream",
     "text": [
      "{'eval_loss': 0.5518609881401062, 'eval_accuracy': 0.7765939644112233, 'eval_runtime': 15.248, 'eval_samples_per_second': 1175.696, 'eval_steps_per_second': 73.518, 'epoch': 0.56}\n",
      "{'loss': 0.558, 'grad_norm': 8.778348922729492, 'learning_rate': 1.5542168674698796e-05, 'epoch': 0.67}\n"
     ]
    },
    {
     "data": {
      "application/vnd.jupyter.widget-view+json": {
       "model_id": "d9364fef7b2545998704c030c5968a93",
       "version_major": 2,
       "version_minor": 0
      },
      "text/plain": [
       "  0%|          | 0/1121 [00:00<?, ?it/s]"
      ]
     },
     "metadata": {},
     "output_type": "display_data"
    },
    {
     "name": "stdout",
     "output_type": "stream",
     "text": [
      "{'eval_loss': 0.5296470522880554, 'eval_accuracy': 0.7874714118368941, 'eval_runtime': 15.387, 'eval_samples_per_second': 1165.076, 'eval_steps_per_second': 72.854, 'epoch': 0.67}\n",
      "{'loss': 0.5555, 'grad_norm': 6.447942733764648, 'learning_rate': 1.4798453071545443e-05, 'epoch': 0.78}\n"
     ]
    },
    {
     "data": {
      "application/vnd.jupyter.widget-view+json": {
       "model_id": "aead20e469c8447cba1c764ce794d493",
       "version_major": 2,
       "version_minor": 0
      },
      "text/plain": [
       "  0%|          | 0/1121 [00:00<?, ?it/s]"
      ]
     },
     "metadata": {},
     "output_type": "display_data"
    },
    {
     "name": "stdout",
     "output_type": "stream",
     "text": [
      "{'eval_loss': 0.5147919058799744, 'eval_accuracy': 0.7981257321358844, 'eval_runtime': 15.3022, 'eval_samples_per_second': 1171.532, 'eval_steps_per_second': 73.258, 'epoch': 0.78}\n",
      "{'loss': 0.5244, 'grad_norm': 8.206424713134766, 'learning_rate': 1.4054737468392088e-05, 'epoch': 0.89}\n"
     ]
    },
    {
     "data": {
      "application/vnd.jupyter.widget-view+json": {
       "model_id": "5682723a6d06415fb0712233615cca5d",
       "version_major": 2,
       "version_minor": 0
      },
      "text/plain": [
       "  0%|          | 0/1121 [00:00<?, ?it/s]"
      ]
     },
     "metadata": {},
     "output_type": "display_data"
    },
    {
     "name": "stdout",
     "output_type": "stream",
     "text": [
      "{'eval_loss': 0.4751603305339813, 'eval_accuracy': 0.8125174318067719, 'eval_runtime': 15.2885, 'eval_samples_per_second': 1172.577, 'eval_steps_per_second': 73.323, 'epoch': 0.89}\n",
      "{'loss': 0.4899, 'grad_norm': 7.761538028717041, 'learning_rate': 1.3311021865238734e-05, 'epoch': 1.0}\n"
     ]
    },
    {
     "data": {
      "application/vnd.jupyter.widget-view+json": {
       "model_id": "ef21fada136144c89330d34d383f0b81",
       "version_major": 2,
       "version_minor": 0
      },
      "text/plain": [
       "  0%|          | 0/1121 [00:00<?, ?it/s]"
      ]
     },
     "metadata": {},
     "output_type": "display_data"
    },
    {
     "name": "stdout",
     "output_type": "stream",
     "text": [
      "{'eval_loss': 0.4567829370498657, 'eval_accuracy': 0.8195459362972053, 'eval_runtime': 15.3262, 'eval_samples_per_second': 1169.699, 'eval_steps_per_second': 73.143, 'epoch': 1.0}\n",
      "{'loss': 0.3566, 'grad_norm': 6.101929664611816, 'learning_rate': 1.256730626208538e-05, 'epoch': 1.12}\n"
     ]
    },
    {
     "data": {
      "application/vnd.jupyter.widget-view+json": {
       "model_id": "278919cea23f4591924b8328f9ea012a",
       "version_major": 2,
       "version_minor": 0
      },
      "text/plain": [
       "  0%|          | 0/1121 [00:00<?, ?it/s]"
      ]
     },
     "metadata": {},
     "output_type": "display_data"
    },
    {
     "name": "stdout",
     "output_type": "stream",
     "text": [
      "{'eval_loss': 0.45697498321533203, 'eval_accuracy': 0.8264070954426285, 'eval_runtime': 15.3556, 'eval_samples_per_second': 1167.457, 'eval_steps_per_second': 73.003, 'epoch': 1.12}\n",
      "{'loss': 0.356, 'grad_norm': 19.1232967376709, 'learning_rate': 1.182507809013833e-05, 'epoch': 1.23}\n"
     ]
    },
    {
     "data": {
      "application/vnd.jupyter.widget-view+json": {
       "model_id": "b2a0cf0dcdab47e19b6e77b67e83c47a",
       "version_major": 2,
       "version_minor": 0
      },
      "text/plain": [
       "  0%|          | 0/1121 [00:00<?, ?it/s]"
      ]
     },
     "metadata": {},
     "output_type": "display_data"
    },
    {
     "name": "stdout",
     "output_type": "stream",
     "text": [
      "{'eval_loss': 0.44443193078041077, 'eval_accuracy': 0.8325430914263402, 'eval_runtime': 15.3501, 'eval_samples_per_second': 1167.878, 'eval_steps_per_second': 73.029, 'epoch': 1.23}\n",
      "{'loss': 0.3656, 'grad_norm': 10.15835952758789, 'learning_rate': 1.1081362486984977e-05, 'epoch': 1.34}\n"
     ]
    },
    {
     "data": {
      "application/vnd.jupyter.widget-view+json": {
       "model_id": "a0b1e04c9af3456a90cf1098765b5ade",
       "version_major": 2,
       "version_minor": 0
      },
      "text/plain": [
       "  0%|          | 0/1121 [00:00<?, ?it/s]"
      ]
     },
     "metadata": {},
     "output_type": "display_data"
    },
    {
     "name": "stdout",
     "output_type": "stream",
     "text": [
      "{'eval_loss': 0.4440430700778961, 'eval_accuracy': 0.8292519663078038, 'eval_runtime': 15.1367, 'eval_samples_per_second': 1184.337, 'eval_steps_per_second': 74.058, 'epoch': 1.34}\n",
      "{'loss': 0.3392, 'grad_norm': 32.721195220947266, 'learning_rate': 1.0337646883831624e-05, 'epoch': 1.45}\n"
     ]
    },
    {
     "data": {
      "application/vnd.jupyter.widget-view+json": {
       "model_id": "e83fa383ea694ebe8010cabc713deb00",
       "version_major": 2,
       "version_minor": 0
      },
      "text/plain": [
       "  0%|          | 0/1121 [00:00<?, ?it/s]"
      ]
     },
     "metadata": {},
     "output_type": "display_data"
    },
    {
     "name": "stdout",
     "output_type": "stream",
     "text": [
      "{'eval_loss': 0.49647364020347595, 'eval_accuracy': 0.8299771294695153, 'eval_runtime': 15.3038, 'eval_samples_per_second': 1171.409, 'eval_steps_per_second': 73.25, 'epoch': 1.45}\n",
      "{'loss': 0.3297, 'grad_norm': 10.657443046569824, 'learning_rate': 9.59393128067827e-06, 'epoch': 1.56}\n"
     ]
    },
    {
     "data": {
      "application/vnd.jupyter.widget-view+json": {
       "model_id": "817d74e9048c4c6c83cf645541c0a271",
       "version_major": 2,
       "version_minor": 0
      },
      "text/plain": [
       "  0%|          | 0/1121 [00:00<?, ?it/s]"
      ]
     },
     "metadata": {},
     "output_type": "display_data"
    },
    {
     "name": "stdout",
     "output_type": "stream",
     "text": [
      "{'eval_loss': 0.4006578028202057, 'eval_accuracy': 0.8463769732805266, 'eval_runtime': 15.3449, 'eval_samples_per_second': 1168.27, 'eval_steps_per_second': 73.054, 'epoch': 1.56}\n",
      "{'loss': 0.3221, 'grad_norm': 1.2540295124053955, 'learning_rate': 8.853190539937528e-06, 'epoch': 1.67}\n"
     ]
    },
    {
     "data": {
      "application/vnd.jupyter.widget-view+json": {
       "model_id": "b1fca0b0fc52426691b6291ae0eb5b50",
       "version_major": 2,
       "version_minor": 0
      },
      "text/plain": [
       "  0%|          | 0/1121 [00:00<?, ?it/s]"
      ]
     },
     "metadata": {},
     "output_type": "display_data"
    },
    {
     "name": "stdout",
     "output_type": "stream",
     "text": [
      "{'eval_loss': 0.38762417435646057, 'eval_accuracy': 0.8535170413343002, 'eval_runtime': 15.0862, 'eval_samples_per_second': 1188.302, 'eval_steps_per_second': 74.306, 'epoch': 1.67}\n",
      "{'loss': 0.318, 'grad_norm': 3.6394217014312744, 'learning_rate': 8.109474936784174e-06, 'epoch': 1.78}\n"
     ]
    },
    {
     "data": {
      "application/vnd.jupyter.widget-view+json": {
       "model_id": "8f8832bcd6da4a26ae7978be06887580",
       "version_major": 2,
       "version_minor": 0
      },
      "text/plain": [
       "  0%|          | 0/1121 [00:00<?, ?it/s]"
      ]
     },
     "metadata": {},
     "output_type": "display_data"
    },
    {
     "name": "stdout",
     "output_type": "stream",
     "text": [
      "{'eval_loss': 0.3927863538265228, 'eval_accuracy': 0.8568081664528365, 'eval_runtime': 15.2803, 'eval_samples_per_second': 1173.212, 'eval_steps_per_second': 73.363, 'epoch': 1.78}\n",
      "{'loss': 0.3098, 'grad_norm': 21.93386459350586, 'learning_rate': 7.36575933363082e-06, 'epoch': 1.9}\n"
     ]
    },
    {
     "data": {
      "application/vnd.jupyter.widget-view+json": {
       "model_id": "ac15c66f31504d9b80ea3326b62fb081",
       "version_major": 2,
       "version_minor": 0
      },
      "text/plain": [
       "  0%|          | 0/1121 [00:00<?, ?it/s]"
      ]
     },
     "metadata": {},
     "output_type": "display_data"
    },
    {
     "name": "stdout",
     "output_type": "stream",
     "text": [
      "{'eval_loss': 0.37509840726852417, 'eval_accuracy': 0.8603224186980533, 'eval_runtime': 15.4011, 'eval_samples_per_second': 1164.012, 'eval_steps_per_second': 72.787, 'epoch': 1.9}\n",
      "{'loss': 0.2922, 'grad_norm': 7.224396705627441, 'learning_rate': 6.622043730477465e-06, 'epoch': 2.01}\n"
     ]
    },
    {
     "data": {
      "application/vnd.jupyter.widget-view+json": {
       "model_id": "deaf638ca0ee41a098446760268099f7",
       "version_major": 2,
       "version_minor": 0
      },
      "text/plain": [
       "  0%|          | 0/1121 [00:00<?, ?it/s]"
      ]
     },
     "metadata": {},
     "output_type": "display_data"
    },
    {
     "name": "stdout",
     "output_type": "stream",
     "text": [
      "{'eval_loss': 0.3942375183105469, 'eval_accuracy': 0.8611591454231048, 'eval_runtime': 15.323, 'eval_samples_per_second': 1169.943, 'eval_steps_per_second': 73.158, 'epoch': 2.01}\n",
      "{'loss': 0.2247, 'grad_norm': 7.021300792694092, 'learning_rate': 5.878328127324112e-06, 'epoch': 2.12}\n"
     ]
    },
    {
     "data": {
      "application/vnd.jupyter.widget-view+json": {
       "model_id": "9840aa9965f24afeb729ea2152f3fc48",
       "version_major": 2,
       "version_minor": 0
      },
      "text/plain": [
       "  0%|          | 0/1121 [00:00<?, ?it/s]"
      ]
     },
     "metadata": {},
     "output_type": "display_data"
    },
    {
     "name": "stdout",
     "output_type": "stream",
     "text": [
      "{'eval_loss': 0.40905287861824036, 'eval_accuracy': 0.8619400903664863, 'eval_runtime': 15.3263, 'eval_samples_per_second': 1169.691, 'eval_steps_per_second': 73.142, 'epoch': 2.12}\n",
      "{'loss': 0.2215, 'grad_norm': 13.740716934204102, 'learning_rate': 5.136099955377064e-06, 'epoch': 2.23}\n"
     ]
    },
    {
     "data": {
      "application/vnd.jupyter.widget-view+json": {
       "model_id": "4bd5d25aeeb941c58a0f1a0658071bd5",
       "version_major": 2,
       "version_minor": 0
      },
      "text/plain": [
       "  0%|          | 0/1121 [00:00<?, ?it/s]"
      ]
     },
     "metadata": {},
     "output_type": "display_data"
    },
    {
     "name": "stdout",
     "output_type": "stream",
     "text": [
      "{'eval_loss': 0.4112061858177185, 'eval_accuracy': 0.8641713616332906, 'eval_runtime': 15.1371, 'eval_samples_per_second': 1184.31, 'eval_steps_per_second': 74.057, 'epoch': 2.23}\n",
      "{'loss': 0.2187, 'grad_norm': 12.42978286743164, 'learning_rate': 4.3923843522237095e-06, 'epoch': 2.34}\n"
     ]
    },
    {
     "data": {
      "application/vnd.jupyter.widget-view+json": {
       "model_id": "100e82cc80554fceabedf775fe05d0a0",
       "version_major": 2,
       "version_minor": 0
      },
      "text/plain": [
       "  0%|          | 0/1121 [00:00<?, ?it/s]"
      ]
     },
     "metadata": {},
     "output_type": "display_data"
    },
    {
     "name": "stdout",
     "output_type": "stream",
     "text": [
      "{'eval_loss': 0.4013005197048187, 'eval_accuracy': 0.8666257600267753, 'eval_runtime': 15.1237, 'eval_samples_per_second': 1185.361, 'eval_steps_per_second': 74.122, 'epoch': 2.34}\n",
      "{'loss': 0.2145, 'grad_norm': 9.10075569152832, 'learning_rate': 3.6486687490703558e-06, 'epoch': 2.45}\n"
     ]
    },
    {
     "data": {
      "application/vnd.jupyter.widget-view+json": {
       "model_id": "9ccdf7bb4dca4e9886938614971db0df",
       "version_major": 2,
       "version_minor": 0
      },
      "text/plain": [
       "  0%|          | 0/1121 [00:00<?, ?it/s]"
      ]
     },
     "metadata": {},
     "output_type": "display_data"
    },
    {
     "name": "stdout",
     "output_type": "stream",
     "text": [
      "{'eval_loss': 0.4080771505832672, 'eval_accuracy': 0.8692475037652703, 'eval_runtime': 15.2188, 'eval_samples_per_second': 1177.951, 'eval_steps_per_second': 73.659, 'epoch': 2.45}\n",
      "{'loss': 0.2129, 'grad_norm': 5.893802642822266, 'learning_rate': 2.9049531459170016e-06, 'epoch': 2.57}\n"
     ]
    },
    {
     "data": {
      "application/vnd.jupyter.widget-view+json": {
       "model_id": "1b422174e01f4d8c8ad6d5473345f105",
       "version_major": 2,
       "version_minor": 0
      },
      "text/plain": [
       "  0%|          | 0/1121 [00:00<?, ?it/s]"
      ]
     },
     "metadata": {},
     "output_type": "display_data"
    },
    {
     "name": "stdout",
     "output_type": "stream",
     "text": [
      "{'eval_loss': 0.39565905928611755, 'eval_accuracy': 0.8682992134768784, 'eval_runtime': 15.1446, 'eval_samples_per_second': 1183.719, 'eval_steps_per_second': 74.02, 'epoch': 2.57}\n",
      "{'loss': 0.2172, 'grad_norm': 11.997639656066895, 'learning_rate': 2.1612375427636474e-06, 'epoch': 2.68}\n"
     ]
    },
    {
     "data": {
      "application/vnd.jupyter.widget-view+json": {
       "model_id": "7428d0e7756340c4860c2af8fbf57b1f",
       "version_major": 2,
       "version_minor": 0
      },
      "text/plain": [
       "  0%|          | 0/1121 [00:00<?, ?it/s]"
      ]
     },
     "metadata": {},
     "output_type": "display_data"
    },
    {
     "name": "stdout",
     "output_type": "stream",
     "text": [
      "{'eval_loss': 0.39300772547721863, 'eval_accuracy': 0.8712556479053941, 'eval_runtime': 15.1885, 'eval_samples_per_second': 1180.299, 'eval_steps_per_second': 73.806, 'epoch': 2.68}\n",
      "{'loss': 0.2096, 'grad_norm': 8.183815002441406, 'learning_rate': 1.4175219396102932e-06, 'epoch': 2.79}\n"
     ]
    },
    {
     "data": {
      "application/vnd.jupyter.widget-view+json": {
       "model_id": "c7a683c9e023422996dcacd58be49381",
       "version_major": 2,
       "version_minor": 0
      },
      "text/plain": [
       "  0%|          | 0/1121 [00:00<?, ?it/s]"
      ]
     },
     "metadata": {},
     "output_type": "display_data"
    },
    {
     "name": "stdout",
     "output_type": "stream",
     "text": [
      "{'eval_loss': 0.39961186051368713, 'eval_accuracy': 0.8724270653204663, 'eval_runtime': 15.2724, 'eval_samples_per_second': 1173.82, 'eval_steps_per_second': 73.401, 'epoch': 2.79}\n",
      "{'loss': 0.2029, 'grad_norm': 12.343778610229492, 'learning_rate': 6.738063364569389e-07, 'epoch': 2.9}\n"
     ]
    },
    {
     "data": {
      "application/vnd.jupyter.widget-view+json": {
       "model_id": "d0f4be18da444cf5b73918d5ed8b4c56",
       "version_major": 2,
       "version_minor": 0
      },
      "text/plain": [
       "  0%|          | 0/1121 [00:00<?, ?it/s]"
      ]
     },
     "metadata": {},
     "output_type": "display_data"
    },
    {
     "name": "stdout",
     "output_type": "stream",
     "text": [
      "{'eval_loss': 0.39815640449523926, 'eval_accuracy': 0.872259719975456, 'eval_runtime': 15.2364, 'eval_samples_per_second': 1176.59, 'eval_steps_per_second': 73.574, 'epoch': 2.9}\n",
      "{'train_runtime': 1264.7461, 'train_samples_per_second': 170.086, 'train_steps_per_second': 10.631, 'train_loss': 0.386102898532607, 'epoch': 3.0}\n"
     ]
    },
    {
     "data": {
      "text/plain": [
       "TrainOutput(global_step=13446, training_loss=0.386102898532607, metrics={'train_runtime': 1264.7461, 'train_samples_per_second': 170.086, 'train_steps_per_second': 10.631, 'total_flos': 1.4369045171893668e+16, 'train_loss': 0.386102898532607, 'epoch': 3.0})"
      ]
     },
     "execution_count": 170,
     "metadata": {},
     "output_type": "execute_result"
    }
   ],
   "source": [
    "#creating a customer Trainer for the transformer\n",
    "from transformers import Trainer\n",
    "\n",
    "trainer = Trainer(\n",
    "    model=model,\n",
    "    args=training_args,\n",
    "    train_dataset=train_dataset,\n",
    "    eval_dataset=test_dataset,\n",
    "    tokenizer=tokenizer,\n",
    "    compute_metrics=compute_metrics\n",
    ")\n",
    "\n",
    "# Train the model\n",
    "trainer.train()\n"
   ]
  },
  {
   "cell_type": "code",
   "execution_count": 171,
   "id": "51f8357f",
   "metadata": {},
   "outputs": [
    {
     "data": {
      "application/vnd.jupyter.widget-view+json": {
       "model_id": "5b7909bb93af4e4d9128fdb6a9588015",
       "version_major": 2,
       "version_minor": 0
      },
      "text/plain": [
       "  0%|          | 0/1121 [00:00<?, ?it/s]"
      ]
     },
     "metadata": {},
     "output_type": "display_data"
    },
    {
     "name": "stdout",
     "output_type": "stream",
     "text": [
      "Evaluation results: {'eval_loss': 0.39961186051368713, 'eval_accuracy': 0.8724270653204663, 'eval_runtime': 14.9063, 'eval_samples_per_second': 1202.645, 'eval_steps_per_second': 75.203, 'epoch': 3.0}\n"
     ]
    }
   ],
   "source": [
    "#Evaluate the model\n",
    "eval_results = trainer.evaluate()\n",
    "print(f\"Evaluation results: {eval_results}\")"
   ]
  },
  {
   "cell_type": "code",
   "execution_count": 178,
   "id": "ec38c96c",
   "metadata": {},
   "outputs": [
    {
     "name": "stdout",
     "output_type": "stream",
     "text": [
      "Predictions: [2 0]\n"
     ]
    }
   ],
   "source": [
    "import torch\n",
    "\n",
    "# Ensure device is set correctly\n",
    "device = torch.device(\"cuda\" if torch.cuda.is_available() else \"cpu\")\n",
    "model.to(device)\n",
    "\n",
    "def predict(texts):\n",
    "    encodings = tokenizer(texts, truncation=True, padding=True, max_length=128, return_tensors=\"pt\")\n",
    "    \n",
    "    # Move input tensors to the correct device\n",
    "    input_ids = encodings[\"input_ids\"].to(device)\n",
    "    attention_mask = encodings[\"attention_mask\"].to(device)\n",
    "    \n",
    "    with torch.no_grad():\n",
    "        outputs = model(input_ids=input_ids, attention_mask=attention_mask)\n",
    "        logits = outputs.logits\n",
    "        predictions = np.argmax(logits.cpu().numpy(), axis=1) \n",
    "    \n",
    "    return predictions\n",
    "\n",
    "# Example usage\n",
    "example_texts = [\"I love this product!\", \"This is the worst experience ever.\"]\n",
    "predictions = predict(example_texts)\n",
    "print(f\"Predictions: {predictions}\")\n"
   ]
  },
  {
   "cell_type": "code",
   "execution_count": null,
   "id": "d778ed6c",
   "metadata": {},
   "outputs": [],
   "source": [
    "# Save the model and tokenizer\n",
    "model.save_pretrained(\"./saved_model\")\n",
    "tokenizer.save_pretrained(\"./saved_model\")"
   ]
  },
  {
   "cell_type": "code",
   "execution_count": 191,
   "id": "3d4f3c07",
   "metadata": {},
   "outputs": [
    {
     "name": "stdout",
     "output_type": "stream",
     "text": [
      "Collecting SentencePiece\n",
      "  Downloading sentencepiece-0.2.0-cp312-cp312-win_amd64.whl.metadata (8.3 kB)\n",
      "Downloading sentencepiece-0.2.0-cp312-cp312-win_amd64.whl (991 kB)\n",
      "   ---------------------------------------- 0.0/992.0 kB ? eta -:--:--\n",
      "   - ------------------------------------- 30.7/992.0 kB 660.6 kB/s eta 0:00:02\n",
      "   ---- ----------------------------------- 112.6/992.0 kB 1.3 MB/s eta 0:00:01\n",
      "   ------------------- -------------------- 491.5/992.0 kB 3.9 MB/s eta 0:00:01\n",
      "   ---------------------------------------- 992.0/992.0 kB 6.3 MB/s eta 0:00:00\n",
      "Installing collected packages: SentencePiece\n",
      "Successfully installed SentencePiece-0.2.0\n",
      "Note: you may need to restart the kernel to use updated packages.\n"
     ]
    }
   ],
   "source": [
    "pip install SentencePiece"
   ]
  },
  {
   "cell_type": "code",
   "execution_count": 56,
   "id": "a2f3cbff",
   "metadata": {},
   "outputs": [
    {
     "name": "stderr",
     "output_type": "stream",
     "text": [
      "c:\\Users\\shaag\\miniconda3\\envs\\torch\\Lib\\site-packages\\transformers\\tokenization_utils_base.py:1601: FutureWarning: `clean_up_tokenization_spaces` was not set. It will be set to `True` by default. This behavior will be depracted in transformers v4.45, and will be then set to `False` by default. For more details check this issue: https://github.com/huggingface/transformers/issues/31884\n",
      "  warnings.warn(\n",
      "Some weights of AlbertForSequenceClassification were not initialized from the model checkpoint at albert-base-v2 and are newly initialized: ['classifier.bias', 'classifier.weight']\n",
      "You should probably TRAIN this model on a down-stream task to be able to use it for predictions and inference.\n"
     ]
    }
   ],
   "source": [
    "from transformers import AlbertTokenizer, AlbertForSequenceClassification, TrainingArguments, Trainer\n",
    "\n",
    "# Load tokenizer and model\n",
    "tokenizer = AlbertTokenizer.from_pretrained(\"albert-base-v2\")\n",
    "model = AlbertForSequenceClassification.from_pretrained(\"albert-base-v2\", num_labels=3)\n",
    "\n"
   ]
  },
  {
   "cell_type": "code",
   "execution_count": 59,
   "id": "eed342ce",
   "metadata": {},
   "outputs": [],
   "source": [
    "final_df.reset_index(drop=True,inplace=True)"
   ]
  },
  {
   "cell_type": "code",
   "execution_count": 62,
   "id": "47986c5f",
   "metadata": {},
   "outputs": [],
   "source": [
    "import pandas as pd\n",
    "from datasets import Dataset\n",
    "from sklearn.model_selection import train_test_split\n",
    "\n",
    "\n",
    "\n",
    "# Split into train and test sets\n",
    "train_df, test_df = train_test_split(final_df, test_size=0.2, random_state=42)\n",
    "\n",
    "# Convert to Hugging Face Dataset\n",
    "train_dataset = Dataset.from_pandas(train_df)\n",
    "test_dataset = Dataset.from_pandas(test_df)\n"
   ]
  },
  {
   "cell_type": "code",
   "execution_count": 63,
   "id": "f8932177",
   "metadata": {},
   "outputs": [
    {
     "data": {
      "application/vnd.jupyter.widget-view+json": {
       "model_id": "d4e2747c94834b3e919dc8e8b74e762c",
       "version_major": 2,
       "version_minor": 0
      },
      "text/plain": [
       "Map:   0%|          | 0/71705 [00:00<?, ? examples/s]"
      ]
     },
     "metadata": {},
     "output_type": "display_data"
    },
    {
     "data": {
      "application/vnd.jupyter.widget-view+json": {
       "model_id": "1ed6fbbd7faf40ebbc0e4f971a1f223c",
       "version_major": 2,
       "version_minor": 0
      },
      "text/plain": [
       "Map:   0%|          | 0/17927 [00:00<?, ? examples/s]"
      ]
     },
     "metadata": {},
     "output_type": "display_data"
    }
   ],
   "source": [
    "from transformers import AutoTokenizer\n",
    "#pre processfunction for the transformer\n",
    "\n",
    "def preprocess_function(examples):\n",
    "    return tokenizer(examples[\"text\"], truncation=True, padding=True)\n",
    "\n",
    "\n",
    "#mapping the dataset\n",
    "train_dataset = train_dataset.map(preprocess_function, batched=True)\n",
    "test_dataset = test_dataset.map(preprocess_function, batched=True)\n",
    "\n",
    "# Set format for PyTorch\n",
    "train_dataset.set_format(type='torch', columns=['input_ids', 'attention_mask', 'label'])\n",
    "test_dataset.set_format(type='torch', columns=['input_ids', 'attention_mask', 'label'])"
   ]
  },
  {
   "cell_type": "code",
   "execution_count": 70,
   "id": "041a7b1a",
   "metadata": {},
   "outputs": [],
   "source": [
    "# Define training arguments\n",
    "training_args = TrainingArguments(\n",
    "    output_dir=\"./results\",\n",
    "    eval_strategy=\"epoch\",\n",
    "    learning_rate=2e-5,\n",
    "    per_device_train_batch_size=8,\n",
    "    per_device_eval_batch_size=8,\n",
    "    num_train_epochs=3,\n",
    "    weight_decay=0.01,\n",
    ")"
   ]
  },
  {
   "cell_type": "code",
   "execution_count": 71,
   "id": "090089a2",
   "metadata": {},
   "outputs": [
    {
     "data": {
      "application/vnd.jupyter.widget-view+json": {
       "model_id": "00d5655e85c040908631fb837f5de487",
       "version_major": 2,
       "version_minor": 0
      },
      "text/plain": [
       "  0%|          | 0/26892 [00:00<?, ?it/s]"
      ]
     },
     "metadata": {},
     "output_type": "display_data"
    },
    {
     "name": "stdout",
     "output_type": "stream",
     "text": [
      "{'loss': 0.5656, 'grad_norm': 49.64048385620117, 'learning_rate': 1.9632604492042245e-05, 'epoch': 0.06}\n",
      "{'loss': 0.6569, 'grad_norm': 16.321924209594727, 'learning_rate': 1.926149040606872e-05, 'epoch': 0.11}\n",
      "{'loss': 0.6296, 'grad_norm': 49.42668533325195, 'learning_rate': 1.8889632604492043e-05, 'epoch': 0.17}\n",
      "{'loss': 0.6142, 'grad_norm': 45.342735290527344, 'learning_rate': 1.8517774802915368e-05, 'epoch': 0.22}\n",
      "{'loss': 0.5957, 'grad_norm': 41.1119384765625, 'learning_rate': 1.8146660716941844e-05, 'epoch': 0.28}\n",
      "{'loss': 0.5776, 'grad_norm': 31.327688217163086, 'learning_rate': 1.777554663096832e-05, 'epoch': 0.33}\n",
      "{'loss': 0.5649, 'grad_norm': 21.824832916259766, 'learning_rate': 1.7403688829391644e-05, 'epoch': 0.39}\n",
      "{'loss': 0.5923, 'grad_norm': 20.257238388061523, 'learning_rate': 1.7031831027814966e-05, 'epoch': 0.45}\n",
      "{'loss': 0.6329, 'grad_norm': 20.651630401611328, 'learning_rate': 1.6659973226238288e-05, 'epoch': 0.5}\n",
      "{'loss': 0.6198, 'grad_norm': 37.71247863769531, 'learning_rate': 1.6288859140264763e-05, 'epoch': 0.56}\n",
      "{'loss': 0.6112, 'grad_norm': 64.06809997558594, 'learning_rate': 1.591700133868809e-05, 'epoch': 0.61}\n",
      "{'loss': 0.6005, 'grad_norm': 25.618160247802734, 'learning_rate': 1.554514353711141e-05, 'epoch': 0.67}\n",
      "{'loss': 0.6009, 'grad_norm': 68.60218811035156, 'learning_rate': 1.5173285735534732e-05, 'epoch': 0.73}\n",
      "{'loss': 0.5837, 'grad_norm': 35.665340423583984, 'learning_rate': 1.4801427933958054e-05, 'epoch': 0.78}\n",
      "{'loss': 0.5904, 'grad_norm': 42.17561340332031, 'learning_rate': 1.4429570132381378e-05, 'epoch': 0.84}\n",
      "{'loss': 0.5559, 'grad_norm': 41.673500061035156, 'learning_rate': 1.40577123308047e-05, 'epoch': 0.89}\n",
      "{'loss': 0.5603, 'grad_norm': 35.720611572265625, 'learning_rate': 1.3685854529228025e-05, 'epoch': 0.95}\n"
     ]
    },
    {
     "data": {
      "application/vnd.jupyter.widget-view+json": {
       "model_id": "1508e8e7f2f04376b60c935f707b9612",
       "version_major": 2,
       "version_minor": 0
      },
      "text/plain": [
       "  0%|          | 0/2241 [00:00<?, ?it/s]"
      ]
     },
     "metadata": {},
     "output_type": "display_data"
    },
    {
     "name": "stdout",
     "output_type": "stream",
     "text": [
      "{'eval_loss': 0.5368098020553589, 'eval_accuracy': 0.7826741786132649, 'eval_runtime': 47.3869, 'eval_samples_per_second': 378.311, 'eval_steps_per_second': 47.292, 'epoch': 1.0}\n",
      "{'loss': 0.5468, 'grad_norm': 21.012731552124023, 'learning_rate': 1.3313996727651348e-05, 'epoch': 1.0}\n",
      "{'loss': 0.4314, 'grad_norm': 15.891657829284668, 'learning_rate': 1.294213892607467e-05, 'epoch': 1.06}\n",
      "{'loss': 0.4408, 'grad_norm': 103.17704772949219, 'learning_rate': 1.2570281124497994e-05, 'epoch': 1.12}\n",
      "{'loss': 0.4559, 'grad_norm': 34.4252815246582, 'learning_rate': 1.2198423322921316e-05, 'epoch': 1.17}\n",
      "{'loss': 0.4462, 'grad_norm': 73.6284408569336, 'learning_rate': 1.182656552134464e-05, 'epoch': 1.23}\n",
      "{'loss': 0.4532, 'grad_norm': 23.59660530090332, 'learning_rate': 1.1454707719767961e-05, 'epoch': 1.28}\n",
      "{'loss': 0.4374, 'grad_norm': 55.71400833129883, 'learning_rate': 1.1082849918191285e-05, 'epoch': 1.34}\n",
      "{'loss': 0.4169, 'grad_norm': 19.096708297729492, 'learning_rate': 1.0710992116614606e-05, 'epoch': 1.39}\n",
      "{'loss': 0.4133, 'grad_norm': 59.142974853515625, 'learning_rate': 1.033913431503793e-05, 'epoch': 1.45}\n",
      "{'loss': 0.4193, 'grad_norm': 48.094337463378906, 'learning_rate': 9.968020229064407e-06, 'epoch': 1.51}\n",
      "{'loss': 0.4098, 'grad_norm': 36.14949035644531, 'learning_rate': 9.596162427487729e-06, 'epoch': 1.56}\n",
      "{'loss': 0.4086, 'grad_norm': 45.13317108154297, 'learning_rate': 9.225048341514206e-06, 'epoch': 1.62}\n",
      "{'loss': 0.422, 'grad_norm': 32.2657356262207, 'learning_rate': 8.853190539937528e-06, 'epoch': 1.67}\n",
      "{'loss': 0.4247, 'grad_norm': 55.087303161621094, 'learning_rate': 8.482076453964004e-06, 'epoch': 1.73}\n",
      "{'loss': 0.3961, 'grad_norm': 36.24388885498047, 'learning_rate': 8.110218652387327e-06, 'epoch': 1.78}\n",
      "{'loss': 0.4231, 'grad_norm': 39.717994689941406, 'learning_rate': 7.73836085081065e-06, 'epoch': 1.84}\n",
      "{'loss': 0.4114, 'grad_norm': 12.298595428466797, 'learning_rate': 7.366503049233974e-06, 'epoch': 1.9}\n",
      "{'loss': 0.3897, 'grad_norm': 37.10670852661133, 'learning_rate': 6.99538896326045e-06, 'epoch': 1.95}\n"
     ]
    },
    {
     "data": {
      "application/vnd.jupyter.widget-view+json": {
       "model_id": "29516cbb80514d1aa66c3e71025e2f60",
       "version_major": 2,
       "version_minor": 0
      },
      "text/plain": [
       "  0%|          | 0/2241 [00:00<?, ?it/s]"
      ]
     },
     "metadata": {},
     "output_type": "display_data"
    },
    {
     "name": "stdout",
     "output_type": "stream",
     "text": [
      "{'eval_loss': 0.5720034241676331, 'eval_accuracy': 0.8362804707982373, 'eval_runtime': 51.0539, 'eval_samples_per_second': 351.138, 'eval_steps_per_second': 43.895, 'epoch': 2.0}\n",
      "{'loss': 0.3622, 'grad_norm': 1.636293888092041, 'learning_rate': 6.6235311616837725e-06, 'epoch': 2.01}\n",
      "{'loss': 0.2852, 'grad_norm': 54.97638702392578, 'learning_rate': 6.251673360107095e-06, 'epoch': 2.06}\n",
      "{'loss': 0.3117, 'grad_norm': 21.605329513549805, 'learning_rate': 5.879815558530419e-06, 'epoch': 2.12}\n",
      "{'loss': 0.2953, 'grad_norm': 0.6210101842880249, 'learning_rate': 5.507957756953741e-06, 'epoch': 2.18}\n",
      "{'loss': 0.3092, 'grad_norm': 113.37858581542969, 'learning_rate': 5.136099955377064e-06, 'epoch': 2.23}\n",
      "{'loss': 0.2886, 'grad_norm': 1.564789891242981, 'learning_rate': 4.764242153800387e-06, 'epoch': 2.29}\n",
      "{'loss': 0.3066, 'grad_norm': 3.3827342987060547, 'learning_rate': 4.3923843522237095e-06, 'epoch': 2.34}\n",
      "{'loss': 0.3017, 'grad_norm': 3.3384673595428467, 'learning_rate': 4.020526550647033e-06, 'epoch': 2.4}\n",
      "{'loss': 0.2818, 'grad_norm': 20.668493270874023, 'learning_rate': 3.6486687490703558e-06, 'epoch': 2.45}\n",
      "{'loss': 0.2775, 'grad_norm': 149.6566619873047, 'learning_rate': 3.276810947493679e-06, 'epoch': 2.51}\n",
      "{'loss': 0.3157, 'grad_norm': 3.4130942821502686, 'learning_rate': 2.9049531459170016e-06, 'epoch': 2.57}\n",
      "{'loss': 0.3, 'grad_norm': 116.54891967773438, 'learning_rate': 2.5330953443403243e-06, 'epoch': 2.62}\n",
      "{'loss': 0.2774, 'grad_norm': 31.3380126953125, 'learning_rate': 2.1612375427636474e-06, 'epoch': 2.68}\n",
      "{'loss': 0.2818, 'grad_norm': 76.57592010498047, 'learning_rate': 1.7893797411869703e-06, 'epoch': 2.73}\n",
      "{'loss': 0.2807, 'grad_norm': 84.58592987060547, 'learning_rate': 1.4175219396102932e-06, 'epoch': 2.79}\n",
      "{'loss': 0.2541, 'grad_norm': 0.08128347992897034, 'learning_rate': 1.0456641380336161e-06, 'epoch': 2.84}\n",
      "{'loss': 0.3009, 'grad_norm': 121.98018646240234, 'learning_rate': 6.745500520600923e-07, 'epoch': 2.9}\n",
      "{'loss': 0.2647, 'grad_norm': 66.23662567138672, 'learning_rate': 3.034359660865685e-07, 'epoch': 2.96}\n"
     ]
    },
    {
     "data": {
      "application/vnd.jupyter.widget-view+json": {
       "model_id": "dbf79e9c11a549adb60513e80bf80385",
       "version_major": 2,
       "version_minor": 0
      },
      "text/plain": [
       "  0%|          | 0/2241 [00:00<?, ?it/s]"
      ]
     },
     "metadata": {},
     "output_type": "display_data"
    },
    {
     "name": "stdout",
     "output_type": "stream",
     "text": [
      "{'eval_loss': 0.6404937505722046, 'eval_accuracy': 0.8540190773693311, 'eval_runtime': 47.1752, 'eval_samples_per_second': 380.009, 'eval_steps_per_second': 47.504, 'epoch': 3.0}\n",
      "{'train_runtime': 2591.6081, 'train_samples_per_second': 83.004, 'train_steps_per_second': 10.377, 'train_loss': 0.43518262361285054, 'epoch': 3.0}\n"
     ]
    },
    {
     "data": {
      "text/plain": [
       "TrainOutput(global_step=26892, training_loss=0.43518262361285054, metrics={'train_runtime': 2591.6081, 'train_samples_per_second': 83.004, 'train_steps_per_second': 10.377, 'total_flos': 2993394770751384.0, 'train_loss': 0.43518262361285054, 'epoch': 3.0})"
      ]
     },
     "execution_count": 71,
     "metadata": {},
     "output_type": "execute_result"
    }
   ],
   "source": [
    "trainer = Trainer(\n",
    "    model=model,\n",
    "    args=training_args,\n",
    "    train_dataset=train_dataset,\n",
    "    eval_dataset=test_dataset,\n",
    "    tokenizer=tokenizer,\n",
    "    compute_metrics=compute_metrics\n",
    ")\n",
    "\n",
    "# Train the model\n",
    "trainer.train()\n"
   ]
  },
  {
   "cell_type": "code",
   "execution_count": 75,
   "id": "1a8010e5",
   "metadata": {},
   "outputs": [
    {
     "data": {
      "application/vnd.jupyter.widget-view+json": {
       "model_id": "8024db1e0b4b4d83b4aafbcf76b7199d",
       "version_major": 2,
       "version_minor": 0
      },
      "text/plain": [
       "  0%|          | 0/2241 [00:00<?, ?it/s]"
      ]
     },
     "metadata": {},
     "output_type": "display_data"
    },
    {
     "name": "stdout",
     "output_type": "stream",
     "text": [
      "Evaluation results: {'eval_loss': 0.6404937505722046, 'eval_accuracy': 0.8540190773693311, 'eval_runtime': 50.0072, 'eval_samples_per_second': 358.489, 'eval_steps_per_second': 44.814, 'epoch': 3.0}\n"
     ]
    }
   ],
   "source": [
    "# Evaluate the model\n",
    "results = trainer.evaluate()\n",
    "print(f\"Evaluation results: {results}\")\n",
    "\n"
   ]
  },
  {
   "cell_type": "code",
   "execution_count": 74,
   "id": "970a966e",
   "metadata": {},
   "outputs": [
    {
     "name": "stdout",
     "output_type": "stream",
     "text": [
      "Predictions: [2 0]\n"
     ]
    }
   ],
   "source": [
    "import torch\n",
    "# Ensure device is set correctly\n",
    "device = torch.device(\"cuda\" if torch.cuda.is_available() else \"cpu\")\n",
    "model.to(device)\n",
    "\n",
    "def predict(texts):\n",
    "    encodings = tokenizer(texts, truncation=True, padding=True, max_length=128, return_tensors=\"pt\")\n",
    "    \n",
    "    # Move input tensors to the correct device\n",
    "    input_ids = encodings[\"input_ids\"].to(device)\n",
    "    attention_mask = encodings[\"attention_mask\"].to(device)\n",
    "    \n",
    "    with torch.no_grad():\n",
    "        outputs = model(input_ids=input_ids, attention_mask=attention_mask)\n",
    "        logits = outputs.logits\n",
    "        predictions = np.argmax(logits.cpu().numpy(), axis=1)  # Move logits to CPU for numpy operations\n",
    "    \n",
    "    return predictions\n",
    "\n",
    "# Example usage\n",
    "example_texts = [\"I love this product!\", \"This is the worst experience ever.\"]\n",
    "predictions = predict(example_texts)\n",
    "print(f\"Predictions: {predictions}\")\n"
   ]
  },
  {
   "cell_type": "code",
   "execution_count": null,
   "id": "9e5d0c0b",
   "metadata": {},
   "outputs": [],
   "source": []
  }
 ],
 "metadata": {
  "kernelspec": {
   "display_name": "Python 3.9.7 ('base')",
   "language": "python",
   "name": "python3"
  },
  "language_info": {
   "codemirror_mode": {
    "name": "ipython",
    "version": 3
   },
   "file_extension": ".py",
   "mimetype": "text/x-python",
   "name": "python",
   "nbconvert_exporter": "python",
   "pygments_lexer": "ipython3",
   "version": "3.9.7"
  },
  "vscode": {
   "interpreter": {
    "hash": "ad2bdc8ecc057115af97d19610ffacc2b4e99fae6737bb82f5d7fb13d2f2c186"
   }
  }
 },
 "nbformat": 4,
 "nbformat_minor": 5
}
